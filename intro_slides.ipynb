{
 "cells": [
  {
   "cell_type": "markdown",
   "metadata": {
    "slideshow": {
     "slide_type": "slide"
    }
   },
   "source": [
    "# Introduction to Julia\n",
    "\n",
    "#### John Pearson and Tyler Ransom\n",
    "#### SSRI\n",
    "#### March 22, 2017"
   ]
  },
  {
   "cell_type": "markdown",
   "metadata": {
    "slideshow": {
     "slide_type": "subslide"
    }
   },
   "source": [
    "# Who is John?\n",
    "- Research Assistant Professor (Duke Institute for Brain Sciences)\n",
    "- Computational Neuroscience, Data Analysis Methods [pearsonlab.github.io](http://pearsonlab.github.io)\n",
    "- serious Julia user for about two years"
   ]
  },
  {
   "cell_type": "markdown",
   "metadata": {
    "slideshow": {
     "slide_type": "subslide"
    }
   },
   "source": [
    "# Who is Tyler?\n",
    "- Postdoctoral Associate (SSRI)\n",
    "- Labor economics (dynamic discrete choice modeling of college attendance, choice of major, and migration decisions)\n",
    "- serious Julia user for about two years"
   ]
  },
  {
   "cell_type": "markdown",
   "metadata": {
    "slideshow": {
     "slide_type": "subslide"
    }
   },
   "source": [
    "# Who are you?"
   ]
  },
  {
   "cell_type": "markdown",
   "metadata": {
    "slideshow": {
     "slide_type": "notes"
    }
   },
   "source": [
    "- What field (statistics, sociology, economics, etc.)?\n",
    "- What languages are you coming from (R, Python, Stata, C/C++)?\n",
    "- What types of computing?:\n",
    "    - algorithms\n",
    "    - optimization\n",
    "    - data analysis\n",
    "    - modeling"
   ]
  },
  {
   "cell_type": "markdown",
   "metadata": {
    "slideshow": {
     "slide_type": "slide"
    }
   },
   "source": [
    "# What is Julia?\n",
    "\n",
    "![Gaston Julia](http://katgym.by.lo-net2.de/c.wolfseher/chaos/gaston.gif)\n",
    "\n",
    "- new programming language (public since 2012)\n",
    "- brought to you by MIT, Julia Computing\n",
    "- focused on scientific computing applications"
   ]
  },
  {
   "cell_type": "markdown",
   "metadata": {
    "slideshow": {
     "slide_type": "slide"
    }
   },
   "source": [
    "- aims to be a high-level prototyping language that is also fast enough for serious simulation\n",
    "    - as easy to learn and flexible as Python or R\n",
    "    - within 2x the speed of C, C++, or FORTRAN\n",
    "- Currently 0.5.1, soon to be 0.6, with very active developer community (more later)"
   ]
  },
  {
   "cell_type": "markdown",
   "metadata": {
    "slideshow": {
     "slide_type": "slide"
    }
   },
   "source": [
    "# Reasons to Consider Julia\n",
    "\n",
    "- you mostly write your own algorithms\n",
    "- you need to write code that is very fast\n",
    "- you’d like to prototype and optimize within the same language\n",
    "- you want zero boilerplate calls to C, Python (and soon C++)\n",
    "- you need powerful metaprogramming/macros\n",
    "- you want access to state-of-the-art automatic differentiation and optimization\n",
    "- you want to use Greek letters in variable names!\n",
    "- you are interested in programming language design\n",
    "- you want to get in on the ground floor\n"
   ]
  },
  {
   "cell_type": "markdown",
   "metadata": {
    "slideshow": {
     "slide_type": "slide"
    }
   },
   "source": [
    "# Reasons Julia may not be for you (yet)\n",
    "\n",
    "- you mostly use packages written by others\n",
    "- you rely critically on several packages that aren't available\n",
    "- you don’t have much need to optimize your code\n",
    "- you perform mostly data analysis and model building, as opposed to algorithm development\n",
    "- you prioritize stability and reliability \n",
    "    - (or don’t write a lot of tests for your own code)\n",
    "- you don’t want to devote time to keeping up with changes\n",
    "- you have zero background with compiled languages"
   ]
  },
  {
   "cell_type": "markdown",
   "metadata": {
    "slideshow": {
     "slide_type": "slide"
    }
   },
   "source": [
    "# What makes Julia different?\n",
    "\n",
    "- just in time (JIT) compilation\n",
    "- rich type system\n",
    "- multiple dispatch\n",
    "- metaprogramming (programs that write programs: think C macros, STAN)\n",
    "- no more fear of writing loops\n",
    "\n",
    "More on each of these later!"
   ]
  },
  {
   "cell_type": "markdown",
   "metadata": {
    "slideshow": {
     "slide_type": "slide"
    }
   },
   "source": [
    "# Learning Julia\n",
    "\n",
    "- [Julia homepage](http://julialang.org/)\n",
    "- [Learning resources](http://julialang.org/learning/)\n",
    "- [Docs](http://docs.julialang.org/en/stable/) \n",
    "    - more comprehensive and up-to-date than most other info\n",
    "- [JuliaBox](www.juliabox.org) will let you try out Julia in a Jupyter notebook without an install\n",
    "- [YouTube](https://www.youtube.com/user/JuliaLanguage)\n",
    "- [GitHub](https://github.com/JuliaLang/julia)\n",
    "    - this is where most of the development discussion takes place\n",
    "    - being GitHub-friendly currently important\n",
    "- [Julia Discourse](https://discourse.julialang.org/)"
   ]
  },
  {
   "cell_type": "markdown",
   "metadata": {
    "slideshow": {
     "slide_type": "slide"
    }
   },
   "source": [
    "# REPL time"
   ]
  },
  {
   "cell_type": "markdown",
   "metadata": {
    "slideshow": {
     "slide_type": "notes"
    }
   },
   "source": [
    "# REPL\n",
    "REPL = **R**ead **E**val **P**rint **L**oop = interactive console\n",
    "\n",
    "- open terminal\n",
    "- type `julia`\n",
    "- wait for everyone to get a prompt\n",
    "\n",
    "## Cool things you can do\n",
    "- basic calculator functions\n",
    "- up for last command; basic Emacs key bindings\n",
    "- `;` = shell mode (but not a real shell) (though cf `run`)\n",
    "- `?` = help mode (try `?run`)\n",
    "- also more specific helps (`methods`, `methodswith`, later)\n",
    "- finally `typeof` tells us the type of a variable or expression\n",
    "    - `typeof(5)`\n",
    "    - `typeof(4.3)`"
   ]
  },
  {
   "cell_type": "markdown",
   "metadata": {
    "slideshow": {
     "slide_type": "notes"
    }
   },
   "source": [
    "# Basic Data Operations"
   ]
  },
  {
   "cell_type": "markdown",
   "metadata": {
    "slideshow": {
     "slide_type": "slide"
    }
   },
   "source": [
    "# Other data types:"
   ]
  },
  {
   "cell_type": "markdown",
   "metadata": {
    "slideshow": {
     "slide_type": "subslide"
    }
   },
   "source": [
    "## Tuple\n",
    "- collection of function arguments\n",
    "- immutable => fast"
   ]
  },
  {
   "cell_type": "code",
   "execution_count": 1,
   "metadata": {
    "collapsed": false
   },
   "outputs": [
    {
     "name": "stdout",
     "output_type": "stream",
     "text": [
      "Tuple{Int64,Int64}\n",
      "Tuple{String,Float64}\n"
     ]
    },
    {
     "data": {
      "text/plain": [
       "1"
      ]
     },
     "execution_count": 1,
     "metadata": {},
     "output_type": "execute_result"
    }
   ],
   "source": [
    "t = (1, 2)\n",
    "println(typeof(t))\n",
    "\n",
    "u = \"velociraptor\", 2.2\n",
    "println(typeof(u))\n",
    "\n",
    "t[1]"
   ]
  },
  {
   "cell_type": "code",
   "execution_count": 2,
   "metadata": {
    "collapsed": false
   },
   "outputs": [
    {
     "data": {
      "text/plain": [
       "\"velociraptor\""
      ]
     },
     "execution_count": 2,
     "metadata": {},
     "output_type": "execute_result"
    }
   ],
   "source": [
    "u[1]"
   ]
  },
  {
   "cell_type": "code",
   "execution_count": 3,
   "metadata": {
    "collapsed": false
   },
   "outputs": [
    {
     "ename": "LoadError",
     "evalue": "MethodError: no method matching +(::Tuple{Int64,Int64}, ::Tuple{String,Float64})\nClosest candidates are:\n  +(::Any, ::Any, !Matched::Any, !Matched::Any...) at operators.jl:420",
     "output_type": "error",
     "traceback": [
      "MethodError: no method matching +(::Tuple{Int64,Int64}, ::Tuple{String,Float64})\nClosest candidates are:\n  +(::Any, ::Any, !Matched::Any, !Matched::Any...) at operators.jl:420",
      ""
     ]
    }
   ],
   "source": [
    "t + u"
   ]
  },
  {
   "cell_type": "code",
   "execution_count": 4,
   "metadata": {
    "collapsed": false,
    "slideshow": {
     "slide_type": "notes"
    }
   },
   "outputs": [
    {
     "data": {
      "text/plain": [
       "((1, 2), (\"velociraptor\", 2.2))"
      ]
     },
     "execution_count": 4,
     "metadata": {},
     "output_type": "execute_result"
    }
   ],
   "source": [
    "# t + u  # doesn't work\n",
    " \n",
    "vcat(t, u)  # also doesn't work\n",
    "\n",
    "tuple(t, u)  # also doesn't work"
   ]
  },
  {
   "cell_type": "code",
   "execution_count": 5,
   "metadata": {
    "collapsed": false
   },
   "outputs": [
    {
     "data": {
      "text/plain": [
       "(1, 2, \"velociraptor\", 2.2)"
      ]
     },
     "execution_count": 5,
     "metadata": {},
     "output_type": "execute_result"
    }
   ],
   "source": [
    "tuple(t..., u...)"
   ]
  },
  {
   "cell_type": "code",
   "execution_count": 6,
   "metadata": {
    "collapsed": false,
    "slideshow": {
     "slide_type": "notes"
    }
   },
   "outputs": [
    {
     "name": "stdout",
     "output_type": "stream",
     "text": [
      "(2, (\"velociraptor\", 2.2))\n"
     ]
    },
    {
     "data": {
      "text/plain": [
       "Tuple{Int64,Tuple{String,Float64}}"
      ]
     },
     "execution_count": 6,
     "metadata": {},
     "output_type": "execute_result"
    }
   ],
   "source": [
    "# detour:\n",
    "# if we want to \"unpack\" tuples, we \"splat\" them with ... (cf * in Python):\n",
    "tuple(t..., u)\n",
    "tuple(t..., u...)\n",
    "\n",
    "# sometimes, we want to \"pack\" or \"slurp\" tuples (careful, can cause slow vararg functions!)\n",
    "function packer(z, u...)\n",
    "    u  # no return statement; all arguments packed in z\n",
    "end\n",
    "\n",
    "aa = packer(t..., u)\n",
    "println(aa)\n",
    "typeof(aa)"
   ]
  },
  {
   "cell_type": "code",
   "execution_count": 7,
   "metadata": {
    "collapsed": false
   },
   "outputs": [
    {
     "name": "stdout",
     "output_type": "stream",
     "text": [
      "                          Base               Module\n",
      "                        Compat  26581 KB     Module\n",
      "                          Core               Module\n",
      "                        IJulia  26845 KB     Module\n",
      "                          JSON  26647 KB     Module\n",
      "                          Main               Module\n",
      "                       MbedTLS  26700 KB     Module\n",
      "                           ZMQ  26651 KB     Module\n",
      "                            aa     52 bytes  Tuple{Int64,Tuple{String,Float64}}\n",
      "                        packer      0 bytes  #packer\n",
      "                             t     16 bytes  Tuple{Int64,Int64}\n",
      "                             u     36 bytes  Tuple{String,Float64}\n"
     ]
    }
   ],
   "source": [
    "whos()"
   ]
  },
  {
   "cell_type": "markdown",
   "metadata": {
    "slideshow": {
     "slide_type": "slide"
    }
   },
   "source": [
    "# Dictionary\n",
    "\n",
    "- aka, \"map,\" \"hashmap,\" \"associative array,\" \"key-value store\"\n",
    "- some similarity to structs in Matlab or lists in R, but only slightly\n",
    "- like Python dictionaries, but types matter (keys are usually all the same type, as are values)\n",
    "\n"
   ]
  },
  {
   "cell_type": "code",
   "execution_count": 8,
   "metadata": {
    "collapsed": false
   },
   "outputs": [
    {
     "data": {
      "text/plain": [
       "Pair{String,Float64}"
      ]
     },
     "execution_count": 8,
     "metadata": {},
     "output_type": "execute_result"
    }
   ],
   "source": [
    "# we write a pair as\n",
    "p = \"key\" => 2.\n",
    "typeof(p)"
   ]
  },
  {
   "cell_type": "code",
   "execution_count": 9,
   "metadata": {
    "collapsed": false
   },
   "outputs": [
    {
     "data": {
      "text/plain": [
       "Dict{String,Any} with 2 entries:\n",
       "  \"key\"  => 2\n",
       "  \"lock\" => 4.0"
      ]
     },
     "execution_count": 9,
     "metadata": {},
     "output_type": "execute_result"
    }
   ],
   "source": [
    "d = Dict(\"key\" => 2, \"lock\" => 4.)\n",
    "# typeof(d) = Dict{ASCIIString,Any}\n",
    "# Any is any type of variable (Any = bad performance!)"
   ]
  },
  {
   "cell_type": "code",
   "execution_count": 10,
   "metadata": {
    "collapsed": false
   },
   "outputs": [
    {
     "data": {
      "text/plain": [
       "Base.ValueIterator for a Dict{String,Float64} with 2 entries. Values:\n",
       "  2.0\n",
       "  4.0"
      ]
     },
     "execution_count": 10,
     "metadata": {},
     "output_type": "execute_result"
    }
   ],
   "source": [
    "d = Dict(\"key\" => 2., \"lock\" => 4.)\n",
    "# typeof(d) = Dict{ASCIIString,Float64}\n",
    "\n",
    "keys(d)  # not d.keys()!\n",
    "values(d)"
   ]
  },
  {
   "cell_type": "code",
   "execution_count": 11,
   "metadata": {
    "collapsed": false
   },
   "outputs": [
    {
     "name": "stdout",
     "output_type": "stream",
     "text": [
      "entry: key => 2.0\n",
      "entry: lock => 4.0\n"
     ]
    }
   ],
   "source": [
    "for (k, v) in d  # order of iteration not guaranteed!\n",
    "    println(\"entry: $k => $v\")  # string interpolation!\n",
    "end"
   ]
  },
  {
   "cell_type": "code",
   "execution_count": 12,
   "metadata": {
    "collapsed": false
   },
   "outputs": [
    {
     "data": {
      "text/plain": [
       "Dict{Symbol,Float64} with 2 entries:\n",
       "  :lock => 4.0\n",
       "  :key  => 2.0"
      ]
     },
     "execution_count": 12,
     "metadata": {},
     "output_type": "execute_result"
    }
   ],
   "source": [
    "# by convention, keys in Julia are often symbols (:a) rather than strings\n",
    "d = Dict(:key => 2., :lock => 4.)\n",
    "# typeof(d) = Dict{Symbol,Float64}"
   ]
  },
  {
   "cell_type": "code",
   "execution_count": 13,
   "metadata": {
    "collapsed": false,
    "slideshow": {
     "slide_type": "notes"
    }
   },
   "outputs": [
    {
     "name": "stdout",
     "output_type": "stream",
     "text": [
      "entry: lock => 4.0\n",
      "entry: key => 2.0\n"
     ]
    }
   ],
   "source": [
    "# more on this later (basically, symbols in Exprs don't then have to be converted from strings)\n",
    "for (k, v) in d\n",
    "    println(\"entry: $k => $v\")  # string interpolation!\n",
    "end"
   ]
  },
  {
   "cell_type": "markdown",
   "metadata": {
    "slideshow": {
     "slide_type": "slide"
    }
   },
   "source": [
    "# Plotting things\n",
    "\n",
    "## PyPlot\n",
    "\n",
    "Julia has a great interface to Python "
   ]
  },
  {
   "cell_type": "code",
   "execution_count": 14,
   "metadata": {
    "collapsed": false,
    "slideshow": {
     "slide_type": "fragment"
    }
   },
   "outputs": [
    {
     "data": {
      "text/plain": [
       "5×5 Array{Float64,2}:\n",
       " 0.0217524  0.449553  0.480927   0.667384    0.893922 \n",
       " 0.695857   0.162882  0.0575101  0.900881    0.371262 \n",
       " 0.348242   0.171115  0.319293   0.221333    0.0845676\n",
       " 0.314378   0.975945  0.662331   0.530565    0.925913 \n",
       " 0.364695   0.874734  0.331331   0.00697385  0.15723  "
      ]
     },
     "execution_count": 14,
     "metadata": {},
     "output_type": "execute_result"
    }
   ],
   "source": [
    "using PyCall\n",
    "\n",
    "@pyimport numpy\n",
    "\n",
    "R = numpy.random[:rand](5, 5)"
   ]
  },
  {
   "cell_type": "markdown",
   "metadata": {
    "slideshow": {
     "slide_type": "subslide"
    }
   },
   "source": [
    "# PyPlot allows us to use Matplotlib"
   ]
  },
  {
   "cell_type": "code",
   "execution_count": 15,
   "metadata": {
    "collapsed": false,
    "slideshow": {
     "slide_type": "fragment"
    }
   },
   "outputs": [
    {
     "data": {
      "image/png": "[encoded data removed]",
      "text/plain": [
       "PyPlot.Figure(PyObject <matplotlib.figure.Figure object at 0x32c32f110>)"
      ]
     },
     "metadata": {},
     "output_type": "display_data"
    },
    {
     "data": {
      "text/plain": [
       "PyObject <matplotlib.image.AxesImage object at 0x10e8fd490>"
      ]
     },
     "execution_count": 15,
     "metadata": {},
     "output_type": "execute_result"
    }
   ],
   "source": [
    "using PyPlot\n",
    "\n",
    "PyPlot.matshow(R)"
   ]
  },
  {
   "cell_type": "markdown",
   "metadata": {
    "slideshow": {
     "slide_type": "subslide"
    }
   },
   "source": [
    "## Gadfly"
   ]
  },
  {
   "cell_type": "markdown",
   "metadata": {
    "slideshow": {
     "slide_type": "slide"
    }
   },
   "source": [
    "# How Julia makes your code fast"
   ]
  },
  {
   "cell_type": "markdown",
   "metadata": {
    "slideshow": {
     "slide_type": "subslide"
    }
   },
   "source": [
    "# Just-in-time (JIT) compilation\n",
    "\n",
    "- compilers transform written code to machine code\n",
    "    - much faster\n",
    "    - typically a separate step\n",
    "- JIT compilers work at runtime\n",
    "    - can be very fast with modern methods\n",
    "- Julia uses [LLVM](http://llvm.org/) as a backend"
   ]
  },
  {
   "cell_type": "markdown",
   "metadata": {
    "slideshow": {
     "slide_type": "subslide"
    }
   },
   "source": [
    "# [The Julia compilation process](http://blog.leahhanson.us/julia-introspects.html)\n",
    "\n",
    "- Parsing (Abstract Syntax Tree; AST)\n",
    "    - macro expansion\n",
    "- Code lowering\n",
    "- Code typing\n",
    "- LLVM\n",
    "- machine code\n",
    "\n"
   ]
  },
  {
   "cell_type": "markdown",
   "metadata": {
    "slideshow": {
     "slide_type": "slide"
    }
   },
   "source": [
    "# Julia's type system\n",
    "\n",
    "- variables in code have types (int, float, etc.)\n",
    "- compilers use type information to generate efficient code\n",
    "- like objects, but focus on data, not behavior\n",
    "    - [Execution in the Kingdom of Nouns](http://steve-yegge.blogspot.com/2006/03/execution-in-kingdom-of-nouns.html)\n",
    "    - much more like structs in C\n",
    "- use types for data, methods for behavior\n",
    "- key to understanding how Julia code is organized and what makes it fast"
   ]
  },
  {
   "cell_type": "markdown",
   "metadata": {
    "slideshow": {
     "slide_type": "subslide"
    }
   },
   "source": [
    "# More on types\n",
    "\n",
    "- two types of types:\n",
    "    - Abstract: \n",
    "        - never instantiated\n",
    "        - tree structure (no multiple inheritance)\n",
    "    - Concrete:\n",
    "        - only \"leaf types\"\n",
    "        - fast, optimized code\n",
    "- key functions:\n",
    "    - `typeof`\n",
    "    - `super` and `subtypes`\n",
    "    - `::` and `<:`"
   ]
  },
  {
   "cell_type": "code",
   "execution_count": 16,
   "metadata": {
    "collapsed": false,
    "slideshow": {
     "slide_type": "subslide"
    }
   },
   "outputs": [
    {
     "data": {
      "text/plain": [
       "Int64"
      ]
     },
     "execution_count": 16,
     "metadata": {},
     "output_type": "execute_result"
    }
   ],
   "source": [
    "typeof(1)"
   ]
  },
  {
   "cell_type": "code",
   "execution_count": 17,
   "metadata": {
    "collapsed": false
   },
   "outputs": [
    {
     "data": {
      "text/plain": [
       "Float64"
      ]
     },
     "execution_count": 17,
     "metadata": {},
     "output_type": "execute_result"
    }
   ],
   "source": [
    "typeof(1.1)"
   ]
  },
  {
   "cell_type": "markdown",
   "metadata": {},
   "source": [
    "Strings always have \" \", chars have ' '"
   ]
  },
  {
   "cell_type": "code",
   "execution_count": 18,
   "metadata": {
    "collapsed": false
   },
   "outputs": [
    {
     "data": {
      "text/plain": [
       "Char"
      ]
     },
     "execution_count": 18,
     "metadata": {},
     "output_type": "execute_result"
    }
   ],
   "source": [
    "typeof('a')"
   ]
  },
  {
   "cell_type": "code",
   "execution_count": 19,
   "metadata": {
    "collapsed": false
   },
   "outputs": [
    {
     "data": {
      "text/plain": [
       "String"
      ]
     },
     "execution_count": 19,
     "metadata": {},
     "output_type": "execute_result"
    }
   ],
   "source": [
    "typeof(\"alphabet\")"
   ]
  },
  {
   "cell_type": "markdown",
   "metadata": {
    "slideshow": {
     "slide_type": "subslide"
    }
   },
   "source": [
    "We can find out about the type tree:"
   ]
  },
  {
   "cell_type": "code",
   "execution_count": 20,
   "metadata": {
    "collapsed": false
   },
   "outputs": [
    {
     "data": {
      "text/plain": [
       "AbstractFloat"
      ]
     },
     "execution_count": 20,
     "metadata": {},
     "output_type": "execute_result"
    }
   ],
   "source": [
    "supertype(Float64)"
   ]
  },
  {
   "cell_type": "code",
   "execution_count": 21,
   "metadata": {
    "collapsed": false
   },
   "outputs": [
    {
     "data": {
      "text/plain": [
       "Real"
      ]
     },
     "execution_count": 21,
     "metadata": {},
     "output_type": "execute_result"
    }
   ],
   "source": [
    "supertype(AbstractFloat)"
   ]
  },
  {
   "cell_type": "code",
   "execution_count": 22,
   "metadata": {
    "collapsed": false
   },
   "outputs": [
    {
     "data": {
      "text/plain": [
       "Number"
      ]
     },
     "execution_count": 22,
     "metadata": {},
     "output_type": "execute_result"
    }
   ],
   "source": [
    "supertype(Real)"
   ]
  },
  {
   "cell_type": "code",
   "execution_count": 23,
   "metadata": {
    "collapsed": false
   },
   "outputs": [
    {
     "data": {
      "text/plain": [
       "Any"
      ]
     },
     "execution_count": 23,
     "metadata": {},
     "output_type": "execute_result"
    }
   ],
   "source": [
    "supertype(Number)"
   ]
  },
  {
   "cell_type": "code",
   "execution_count": 24,
   "metadata": {
    "collapsed": false
   },
   "outputs": [
    {
     "data": {
      "text/plain": [
       "Any"
      ]
     },
     "execution_count": 24,
     "metadata": {},
     "output_type": "execute_result"
    }
   ],
   "source": [
    "supertype(Any)"
   ]
  },
  {
   "cell_type": "markdown",
   "metadata": {
    "slideshow": {
     "slide_type": "subslide"
    }
   },
   "source": [
    "More on the type tree:\n",
    "\n",
    "Everything is a subtype of `Any`:"
   ]
  },
  {
   "cell_type": "code",
   "execution_count": 25,
   "metadata": {
    "collapsed": false
   },
   "outputs": [
    {
     "data": {
      "text/plain": [
       "327-element Array{Union{DataType, UnionAll},1}:\n",
       " AbstractArray              \n",
       " AbstractChannel            \n",
       " AbstractRNG                \n",
       " AbstractSerializer         \n",
       " AbstractSet                \n",
       " AbstractString             \n",
       " Any                        \n",
       " Associative                \n",
       " Base.AbstractCartesianIndex\n",
       " Base.AbstractCmd           \n",
       " Base.AsyncCollector        \n",
       " Base.AsyncCollectorState   \n",
       " Base.AsyncCondition        \n",
       " ⋮                          \n",
       " URIParser.URI              \n",
       " UniformScaling             \n",
       " Val                        \n",
       " Vararg                     \n",
       " VecElement                 \n",
       " VersionNumber              \n",
       " Void                       \n",
       " WeakRef                    \n",
       " WorkerConfig               \n",
       " ZMQ.Context                \n",
       " ZMQ.MsgPadding             \n",
       " ZMQ.Socket                 "
      ]
     },
     "execution_count": 25,
     "metadata": {},
     "output_type": "execute_result"
    }
   ],
   "source": [
    "subtypes(Any)"
   ]
  },
  {
   "cell_type": "markdown",
   "metadata": {
    "slideshow": {
     "slide_type": "subslide"
    }
   },
   "source": [
    "We can also test type relationships"
   ]
  },
  {
   "cell_type": "code",
   "execution_count": 26,
   "metadata": {
    "collapsed": false
   },
   "outputs": [
    {
     "data": {
      "text/plain": [
       "true"
      ]
     },
     "execution_count": 26,
     "metadata": {},
     "output_type": "execute_result"
    }
   ],
   "source": [
    "isa(1.1, Float64)"
   ]
  },
  {
   "cell_type": "code",
   "execution_count": 27,
   "metadata": {
    "collapsed": false
   },
   "outputs": [
    {
     "data": {
      "text/plain": [
       "true"
      ]
     },
     "execution_count": 27,
     "metadata": {},
     "output_type": "execute_result"
    }
   ],
   "source": [
    "Number <: Any"
   ]
  },
  {
   "cell_type": "code",
   "execution_count": 28,
   "metadata": {
    "collapsed": false
   },
   "outputs": [
    {
     "data": {
      "text/plain": [
       "true"
      ]
     },
     "execution_count": 28,
     "metadata": {},
     "output_type": "execute_result"
    }
   ],
   "source": [
    "Real <: Number"
   ]
  },
  {
   "cell_type": "code",
   "execution_count": 29,
   "metadata": {
    "collapsed": false
   },
   "outputs": [
    {
     "data": {
      "text/plain": [
       "true"
      ]
     },
     "execution_count": 29,
     "metadata": {},
     "output_type": "execute_result"
    }
   ],
   "source": [
    "Integer <: Real"
   ]
  },
  {
   "cell_type": "code",
   "execution_count": 30,
   "metadata": {
    "collapsed": false
   },
   "outputs": [
    {
     "data": {
      "text/plain": [
       "false"
      ]
     },
     "execution_count": 30,
     "metadata": {},
     "output_type": "execute_result"
    }
   ],
   "source": [
    "Integer <: AbstractFloat"
   ]
  },
  {
   "cell_type": "markdown",
   "metadata": {
    "slideshow": {
     "slide_type": "subslide"
    }
   },
   "source": [
    "Finally, some types can have parameters (like template objects in C++/Java):"
   ]
  },
  {
   "cell_type": "code",
   "execution_count": 31,
   "metadata": {
    "collapsed": false
   },
   "outputs": [
    {
     "data": {
      "text/plain": [
       "1:10"
      ]
     },
     "execution_count": 31,
     "metadata": {},
     "output_type": "execute_result"
    }
   ],
   "source": [
    "aa = 1:10"
   ]
  },
  {
   "cell_type": "code",
   "execution_count": 32,
   "metadata": {
    "collapsed": false
   },
   "outputs": [
    {
     "data": {
      "text/plain": [
       "UnitRange{Int64}"
      ]
     },
     "execution_count": 32,
     "metadata": {},
     "output_type": "execute_result"
    }
   ],
   "source": [
    "typeof(aa)"
   ]
  },
  {
   "cell_type": "code",
   "execution_count": 33,
   "metadata": {
    "collapsed": false
   },
   "outputs": [
    {
     "data": {
      "text/plain": [
       "(1, 10)"
      ]
     },
     "execution_count": 33,
     "metadata": {},
     "output_type": "execute_result"
    }
   ],
   "source": [
    "aa[1], aa[end]"
   ]
  },
  {
   "cell_type": "code",
   "execution_count": 34,
   "metadata": {
    "collapsed": false
   },
   "outputs": [
    {
     "data": {
      "text/plain": [
       "Array{Float64,2}"
      ]
     },
     "execution_count": 34,
     "metadata": {},
     "output_type": "execute_result"
    }
   ],
   "source": [
    "typeof(rand(5, 5))"
   ]
  },
  {
   "cell_type": "markdown",
   "metadata": {
    "slideshow": {
     "slide_type": "subslide"
    }
   },
   "source": [
    "# Types: Summary\n",
    "\n",
    "- data types in Julia form a hierarchy tree\n",
    "- \"leaf\" types are concrete; all others abstract\n",
    "    - abstract types are slow because the compiler can't specialize\n",
    "- types are a way of adapting to your problem domain\n",
    "    - but designing your own type hierarchy can be tricky\n",
    "- type stability is key to good performance\n",
    "    - but you *usually* need to type inputs"
   ]
  },
  {
   "cell_type": "markdown",
   "metadata": {
    "slideshow": {
     "slide_type": "slide"
    }
   },
   "source": [
    "# Multiple Dispatch\n",
    "\n",
    "If Julia's types are just data, not objects, how do we encode type behavior?"
   ]
  },
  {
   "cell_type": "markdown",
   "metadata": {},
   "source": [
    "Julia (like R, C++ operators), choosing among *different* functions of the *same name* based on the types of arguments. This is called **multiple dispatch**."
   ]
  },
  {
   "cell_type": "code",
   "execution_count": 35,
   "metadata": {
    "collapsed": false,
    "slideshow": {
     "slide_type": "subslide"
    }
   },
   "outputs": [
    {
     "name": "stdout",
     "output_type": "stream",
     "text": [
      "search: imag isimag figimage get_current_fig_manager UniformScaling imsave\n",
      "\n"
     ]
    }
   ],
   "source": [
    "?imag"
   ]
  },
  {
   "cell_type": "code",
   "execution_count": 36,
   "metadata": {
    "collapsed": false
   },
   "outputs": [
    {
     "data": {
      "text/html": [
       "15 methods for generic function <b>imag</b>:<ul><li> imag(z::<b>Complex</b>) at <a href=\"https://github.com/JuliaLang/julia/tree/29bc2acd945e74a067d2904c59ab461a1a145e26/base/complex.jl#L58\" target=\"_blank\">complex.jl:58</a></li> <li> imag(x::<b>Real</b>) at <a href=\"https://github.com/JuliaLang/julia/tree/29bc2acd945e74a067d2904c59ab461a1a145e26/base/complex.jl#L60\" target=\"_blank\">complex.jl:60</a></li> <li> imag(M::<b>SymTridiagonal</b>) at <a href=\"https://github.com/JuliaLang/julia/tree/29bc2acd945e74a067d2904c59ab461a1a145e26/base/linalg/tridiag.jl#L105\" target=\"_blank\">linalg/tridiag.jl:105</a></li> <li> imag(M::<b>Tridiagonal</b>) at <a href=\"https://github.com/JuliaLang/julia/tree/29bc2acd945e74a067d2904c59ab461a1a145e26/base/linalg/tridiag.jl#L517\" target=\"_blank\">linalg/tridiag.jl:517</a></li> <li> imag(A::<b>UpperTriangular</b>) at <a href=\"https://github.com/JuliaLang/julia/tree/29bc2acd945e74a067d2904c59ab461a1a145e26/base/linalg/triangular.jl#L53\" target=\"_blank\">linalg/triangular.jl:53</a></li> <li> imag(A::<b>LowerTriangular</b>) at <a href=\"https://github.com/JuliaLang/julia/tree/29bc2acd945e74a067d2904c59ab461a1a145e26/base/linalg/triangular.jl#L54\" target=\"_blank\">linalg/triangular.jl:54</a></li> <li> imag(A::<b>Base.LinAlg.UnitLowerTriangular</b>) at <a href=\"https://github.com/JuliaLang/julia/tree/29bc2acd945e74a067d2904c59ab461a1a145e26/base/linalg/triangular.jl#L55\" target=\"_blank\">linalg/triangular.jl:55</a></li> <li> imag(A::<b>Base.LinAlg.UnitUpperTriangular</b>) at <a href=\"https://github.com/JuliaLang/julia/tree/29bc2acd945e74a067d2904c59ab461a1a145e26/base/linalg/triangular.jl#L56\" target=\"_blank\">linalg/triangular.jl:56</a></li> <li> imag(D::<b>Diagonal</b>) at <a href=\"https://github.com/JuliaLang/julia/tree/29bc2acd945e74a067d2904c59ab461a1a145e26/base/linalg/diagonal.jl#L112\" target=\"_blank\">linalg/diagonal.jl:112</a></li> <li> imag(M::<b>Bidiagonal</b>) at <a href=\"https://github.com/JuliaLang/julia/tree/29bc2acd945e74a067d2904c59ab461a1a145e26/base/linalg/bidiag.jl#L261\" target=\"_blank\">linalg/bidiag.jl:261</a></li> <li> imag(A::<b>SparseMatrixCSC</b>) at <a href=\"https://github.com/JuliaLang/julia/tree/29bc2acd945e74a067d2904c59ab461a1a145e26/base/deprecated.jl#L50\" target=\"_blank\">deprecated.jl:50</a></li> <li> imag<i>{Tv<:Real, Ti<:Integer}</i>(x::<b>AbstractSparseArray{Tv,Ti,1}</b>) at <a href=\"https://github.com/JuliaLang/julia/tree/29bc2acd945e74a067d2904c59ab461a1a145e26/base/sparse/sparsevector.jl#L1024\" target=\"_blank\">sparse/sparsevector.jl:1024</a></li> <li> imag<i>{Tv<:Complex, Ti<:Integer}</i>(x::<b>AbstractSparseArray{Tv,Ti,1}</b>) at <a href=\"https://github.com/JuliaLang/julia/tree/29bc2acd945e74a067d2904c59ab461a1a145e26/base/sparse/sparsevector.jl#L997\" target=\"_blank\">sparse/sparsevector.jl:997</a></li> <li> imag(x::<b>AbstractArray{#s37,N} where N where #s37<:Real</b>) at <a href=\"https://github.com/JuliaLang/julia/tree/29bc2acd945e74a067d2904c59ab461a1a145e26/base/abstractarraymath.jl#L87\" target=\"_blank\">abstractarraymath.jl:87</a></li> <li> imag(A::<b>AbstractArray</b>) at <a href=\"https://github.com/JuliaLang/julia/tree/29bc2acd945e74a067d2904c59ab461a1a145e26/base/arraymath.jl#L29\" target=\"_blank\">arraymath.jl:29</a></li> </ul>"
      ],
      "text/plain": [
       "# 15 methods for generic function \"imag\":\n",
       "imag(z::Complex) in Base at complex.jl:58\n",
       "imag(x::Real) in Base at complex.jl:60\n",
       "imag(M::SymTridiagonal) in Base.LinAlg at linalg/tridiag.jl:105\n",
       "imag(M::Tridiagonal) in Base.LinAlg at linalg/tridiag.jl:517\n",
       "imag(A::UpperTriangular) in Base.LinAlg at linalg/triangular.jl:53\n",
       "imag(A::LowerTriangular) in Base.LinAlg at linalg/triangular.jl:54\n",
       "imag(A::Base.LinAlg.UnitLowerTriangular) in Base.LinAlg at linalg/triangular.jl:55\n",
       "imag(A::Base.LinAlg.UnitUpperTriangular) in Base.LinAlg at linalg/triangular.jl:56\n",
       "imag(D::Diagonal) in Base.LinAlg at linalg/diagonal.jl:112\n",
       "imag(M::Bidiagonal) in Base.LinAlg at linalg/bidiag.jl:261\n",
       "imag(A::SparseMatrixCSC) in Base at deprecated.jl:50\n",
       "imag(x::AbstractSparseArray{Tv,Ti,1}) where {Tv<:Real, Ti<:Integer} in Base.SparseArrays at sparse/sparsevector.jl:1024\n",
       "imag(x::AbstractSparseArray{Tv,Ti,1}) where {Tv<:Complex, Ti<:Integer} in Base.SparseArrays at sparse/sparsevector.jl:997\n",
       "imag(x::AbstractArray{#s37,N} where N where #s37<:Real) in Base at abstractarraymath.jl:87\n",
       "imag(A::AbstractArray) in Base at arraymath.jl:29"
      ]
     },
     "execution_count": 36,
     "metadata": {},
     "output_type": "execute_result"
    }
   ],
   "source": [
    "methods(imag)"
   ]
  },
  {
   "cell_type": "markdown",
   "metadata": {
    "slideshow": {
     "slide_type": "subslide"
    }
   },
   "source": [
    "So, for instance:"
   ]
  },
  {
   "cell_type": "code",
   "execution_count": 37,
   "metadata": {
    "collapsed": false
   },
   "outputs": [
    {
     "data": {
      "text/plain": [
       "foo (generic function with 2 methods)"
      ]
     },
     "execution_count": 37,
     "metadata": {},
     "output_type": "execute_result"
    }
   ],
   "source": [
    "function foo(x::AbstractFloat)\n",
    "    x^2\n",
    "end\n",
    "\n",
    "function foo(x::Integer)\n",
    "    x/2\n",
    "end"
   ]
  },
  {
   "cell_type": "code",
   "execution_count": 38,
   "metadata": {
    "collapsed": false
   },
   "outputs": [
    {
     "data": {
      "text/plain": [
       "4.0"
      ]
     },
     "execution_count": 38,
     "metadata": {},
     "output_type": "execute_result"
    }
   ],
   "source": [
    "foo(2.0)"
   ]
  },
  {
   "cell_type": "code",
   "execution_count": 39,
   "metadata": {
    "collapsed": false
   },
   "outputs": [
    {
     "data": {
      "text/plain": [
       "1.0"
      ]
     },
     "execution_count": 39,
     "metadata": {},
     "output_type": "execute_result"
    }
   ],
   "source": [
    "foo(2)"
   ]
  },
  {
   "cell_type": "markdown",
   "metadata": {
    "slideshow": {
     "slide_type": "slide"
    }
   },
   "source": [
    "# But surely this is madness!\n",
    "\n",
    "How do we avoid combinatorial explosion in definitions for functions that take multiple arguments?"
   ]
  },
  {
   "cell_type": "markdown",
   "metadata": {},
   "source": [
    "Julia has two complementary means of dealing with this:\n",
    "- conversion: define a `convert` method telling Julia how to translate one data type to another\n",
    "- promotion: define `promote_rule` and `promote_type`, telling Julia how to treat two *types* on an equal footing"
   ]
  },
  {
   "cell_type": "markdown",
   "metadata": {
    "slideshow": {
     "slide_type": "subslide"
    }
   },
   "source": [
    "Most conversions happen the way you would expect:"
   ]
  },
  {
   "cell_type": "code",
   "execution_count": 40,
   "metadata": {
    "collapsed": false
   },
   "outputs": [
    {
     "data": {
      "text/plain": [
       "1.0"
      ]
     },
     "execution_count": 40,
     "metadata": {},
     "output_type": "execute_result"
    }
   ],
   "source": [
    "convert(Float64, 1)"
   ]
  },
  {
   "cell_type": "code",
   "execution_count": 41,
   "metadata": {
    "collapsed": false
   },
   "outputs": [
    {
     "data": {
      "text/plain": [
       "1.5 + 0.0im"
      ]
     },
     "execution_count": 41,
     "metadata": {},
     "output_type": "execute_result"
    }
   ],
   "source": [
    "convert(Complex, 1.5)"
   ]
  },
  {
   "cell_type": "code",
   "execution_count": 42,
   "metadata": {
    "collapsed": false
   },
   "outputs": [
    {
     "data": {
      "text/plain": [
       "(1.0, 2.5)"
      ]
     },
     "execution_count": 42,
     "metadata": {},
     "output_type": "execute_result"
    }
   ],
   "source": [
    "promote(1, 2.5)"
   ]
  },
  {
   "cell_type": "code",
   "execution_count": 43,
   "metadata": {
    "collapsed": false
   },
   "outputs": [
    {
     "data": {
      "text/plain": [
       "(1.0 + 0.0im, 0.0 + 0.5im)"
      ]
     },
     "execution_count": 43,
     "metadata": {},
     "output_type": "execute_result"
    }
   ],
   "source": [
    "promote(1, 0.5im)"
   ]
  },
  {
   "cell_type": "markdown",
   "metadata": {
    "slideshow": {
     "slide_type": "subslide"
    }
   },
   "source": [
    "But we can write our own conversion rules:"
   ]
  },
  {
   "cell_type": "code",
   "execution_count": 44,
   "metadata": {
    "collapsed": false
   },
   "outputs": [],
   "source": [
    "type Lefty\n",
    "    x::Number\n",
    "end\n",
    "\n",
    "type Righty\n",
    "    x::Number\n",
    "end"
   ]
  },
  {
   "cell_type": "code",
   "execution_count": 45,
   "metadata": {
    "collapsed": false
   },
   "outputs": [
    {
     "data": {
      "text/plain": [
       "Righty(5)"
      ]
     },
     "execution_count": 45,
     "metadata": {},
     "output_type": "execute_result"
    }
   ],
   "source": [
    "aa = Righty(5)"
   ]
  },
  {
   "cell_type": "code",
   "execution_count": 46,
   "metadata": {
    "collapsed": false
   },
   "outputs": [
    {
     "data": {
      "text/plain": [
       "convert (generic function with 801 methods)"
      ]
     },
     "execution_count": 46,
     "metadata": {},
     "output_type": "execute_result"
    }
   ],
   "source": [
    "import Base.convert\n",
    "convert(::Type{Lefty}, r::Righty) = Lefty(-r.x)"
   ]
  },
  {
   "cell_type": "code",
   "execution_count": 47,
   "metadata": {
    "collapsed": false
   },
   "outputs": [
    {
     "data": {
      "text/plain": [
       "Lefty(-5)"
      ]
     },
     "execution_count": 47,
     "metadata": {},
     "output_type": "execute_result"
    }
   ],
   "source": [
    "convert(Lefty, aa)"
   ]
  },
  {
   "cell_type": "markdown",
   "metadata": {
    "slideshow": {
     "slide_type": "subslide"
    }
   },
   "source": [
    "Promotion works by describing what types of \"least common denonimators\" are possible between types."
   ]
  },
  {
   "cell_type": "markdown",
   "metadata": {},
   "source": [
    "In the case of a Rational type for rational numbers, we might define"
   ]
  },
  {
   "cell_type": "code",
   "execution_count": 48,
   "metadata": {
    "collapsed": false
   },
   "outputs": [
    {
     "data": {
      "text/plain": [
       "promote_rule (generic function with 2 methods)"
      ]
     },
     "execution_count": 48,
     "metadata": {},
     "output_type": "execute_result"
    }
   ],
   "source": [
    "promote_rule{T<:Integer}(::Type{Rational{T}}, ::Type{T}) = Rational{T}\n",
    "promote_rule{T<:Integer,S<:Integer}(::Type{Rational{T}}, ::Type{S}) = Rational{promote_type(T,S)}"
   ]
  },
  {
   "cell_type": "markdown",
   "metadata": {},
   "source": [
    "Rough guide: `promote` is about conversion *strategy*, while `convert` is about *implementation*"
   ]
  },
  {
   "cell_type": "markdown",
   "metadata": {
    "slideshow": {
     "slide_type": "slide"
    }
   },
   "source": [
    "# Metaprogramming\n",
    "\n",
    "Metaprogramming (loosely) refers to the idea of programs writing programs."
   ]
  },
  {
   "cell_type": "markdown",
   "metadata": {},
   "source": [
    "In the case of Julia, this means **macros**. Macros are code rewritings that happen at parse time but prior to compilation."
   ]
  },
  {
   "cell_type": "markdown",
   "metadata": {},
   "source": [
    "It also means that Julia is a language capable of representing and manipulating *its own code*."
   ]
  },
  {
   "cell_type": "markdown",
   "metadata": {
    "slideshow": {
     "slide_type": "subslide"
    }
   },
   "source": [
    "Macros are defined by the `macro` keyword and invoked by the `@` sign. Think of macros as ways to generate code."
   ]
  },
  {
   "cell_type": "code",
   "execution_count": 49,
   "metadata": {
    "collapsed": false
   },
   "outputs": [
    {
     "data": {
      "text/plain": [
       "@lame_map (macro with 1 method)"
      ]
     },
     "execution_count": 49,
     "metadata": {},
     "output_type": "execute_result"
    }
   ],
   "source": [
    "# make a macro that reproduces the map command\n",
    "\n",
    "# Map an operation f over an array A\n",
    "macro lame_map(f, A)\n",
    "    # here, $A is the *symbolic value* of A at parse time \n",
    "    # (i.e., the variable name we feed in)\n",
    "    # :( ) \"quotes\" the code so we return an *expression*\n",
    "    # to be inserted into the syntax tree\n",
    "    esc(:([$f(a) for a in $A]))\n",
    "end"
   ]
  },
  {
   "cell_type": "code",
   "execution_count": 50,
   "metadata": {
    "collapsed": false
   },
   "outputs": [
    {
     "data": {
      "text/plain": [
       "6-element Array{Float64,1}:\n",
       "   1.0    \n",
       "   2.71828\n",
       "   7.38906\n",
       "  20.0855 \n",
       "  54.5982 \n",
       " 148.413  "
      ]
     },
     "execution_count": 50,
     "metadata": {},
     "output_type": "execute_result"
    }
   ],
   "source": [
    "aa = collect(0:5)\n",
    "\n",
    "@lame_map exp aa  # parens are optional when invoking macros"
   ]
  },
  {
   "cell_type": "code",
   "execution_count": 51,
   "metadata": {
    "collapsed": false
   },
   "outputs": [
    {
     "data": {
      "text/plain": [
       ":([exp(a) for a = aa])"
      ]
     },
     "execution_count": 51,
     "metadata": {},
     "output_type": "execute_result"
    }
   ],
   "source": [
    "macroexpand(:(@lame_map exp aa))"
   ]
  },
  {
   "cell_type": "code",
   "execution_count": 52,
   "metadata": {
    "collapsed": false
   },
   "outputs": [
    {
     "data": {
      "text/plain": [
       "quote  # util.jl, line 235:\n",
       "    local #7#stats = (Base.gc_num)() # util.jl, line 236:\n",
       "    local #9#elapsedtime = (Base.time_ns)() # util.jl, line 237:\n",
       "    local #8#val = myfun(50000) # util.jl, line 238:\n",
       "    #9#elapsedtime = (Base.time_ns)() - #9#elapsedtime # util.jl, line 239:\n",
       "    local #10#diff = (Base.GC_Diff)((Base.gc_num)(), #7#stats) # util.jl, line 240:\n",
       "    (Base.time_print)(#9#elapsedtime, #10#diff.allocd, #10#diff.total_time, (Base.gc_alloc_count)(#10#diff)) # util.jl, line 242:\n",
       "    #8#val\n",
       "end"
      ]
     },
     "execution_count": 52,
     "metadata": {},
     "output_type": "execute_result"
    }
   ],
   "source": [
    "macroexpand(:(@time myfun(50000)))"
   ]
  },
  {
   "cell_type": "code",
   "execution_count": 53,
   "metadata": {
    "collapsed": false
   },
   "outputs": [
    {
     "ename": "LoadError",
     "evalue": "Base.SimdLoop.SimdError(\"for loop expected\")",
     "output_type": "error",
     "traceback": [
      "Base.SimdLoop.SimdError(\"for loop expected\")",
      ""
     ]
    }
   ],
   "source": [
    "@simd @inbounds f[i] = k[z] + 1"
   ]
  },
  {
   "cell_type": "code",
   "execution_count": 54,
   "metadata": {
    "collapsed": false
   },
   "outputs": [
    {
     "data": {
      "text/plain": [
       "myfun (generic function with 1 method)"
      ]
     },
     "execution_count": 54,
     "metadata": {},
     "output_type": "execute_result"
    }
   ],
   "source": [
    "myfun(x) = x + 1 - 2."
   ]
  },
  {
   "cell_type": "code",
   "execution_count": 55,
   "metadata": {
    "collapsed": false
   },
   "outputs": [
    {
     "data": {
      "text/plain": [
       "quote  # profile.jl, line 18:\n",
       "    try  # profile.jl, line 19:\n",
       "        #11#status = (Base.Profile.start_timer)() # profile.jl, line 20:\n",
       "        if #11#status < 0 # profile.jl, line 21:\n",
       "            (Base.Profile.error)((Base.Profile.error_codes)[#11#status])\n",
       "        end # profile.jl, line 23:\n",
       "        myfun(2)\n",
       "    finally  # profile.jl, line 25:\n",
       "        (Base.Profile.stop_timer)()\n",
       "    end\n",
       "end"
      ]
     },
     "execution_count": 55,
     "metadata": {},
     "output_type": "execute_result"
    }
   ],
   "source": [
    "macroexpand(:(@profile myfun(2)))"
   ]
  },
  {
   "cell_type": "markdown",
   "metadata": {
    "slideshow": {
     "slide_type": "subslide"
    }
   },
   "source": [
    "Another practical byproduct of this is that Julia has a `Symbol` variable type."
   ]
  },
  {
   "cell_type": "code",
   "execution_count": 56,
   "metadata": {
    "collapsed": false
   },
   "outputs": [
    {
     "data": {
      "text/plain": [
       "Int64"
      ]
     },
     "execution_count": 56,
     "metadata": {},
     "output_type": "execute_result"
    }
   ],
   "source": [
    "x = 5\n",
    "\n",
    "typeof(x)"
   ]
  },
  {
   "cell_type": "code",
   "execution_count": 57,
   "metadata": {
    "collapsed": false
   },
   "outputs": [
    {
     "data": {
      "text/plain": [
       "Symbol"
      ]
     },
     "execution_count": 57,
     "metadata": {},
     "output_type": "execute_result"
    }
   ],
   "source": [
    "typeof(:x)"
   ]
  },
  {
   "cell_type": "code",
   "execution_count": 58,
   "metadata": {
    "collapsed": false
   },
   "outputs": [
    {
     "data": {
      "text/plain": [
       ":x"
      ]
     },
     "execution_count": 58,
     "metadata": {},
     "output_type": "execute_result"
    }
   ],
   "source": [
    "a = :x"
   ]
  },
  {
   "cell_type": "code",
   "execution_count": 59,
   "metadata": {
    "collapsed": false
   },
   "outputs": [
    {
     "name": "stdout",
     "output_type": "stream",
     "text": [
      "6\n"
     ]
    }
   ],
   "source": [
    "eval(:($a = 6))\n",
    "\n",
    "println(x)"
   ]
  },
  {
   "cell_type": "markdown",
   "metadata": {
    "slideshow": {
     "slide_type": "subslide"
    }
   },
   "source": [
    "This is a really important feature for being able to construct programs that write code."
   ]
  },
  {
   "cell_type": "markdown",
   "metadata": {},
   "source": [
    "It's how we tell the difference between the literal string `\"x\"` and the program variable `x`."
   ]
  },
  {
   "cell_type": "markdown",
   "metadata": {},
   "source": [
    "This allows us to write code in which the code itself is variable!"
   ]
  },
  {
   "cell_type": "markdown",
   "metadata": {
    "slideshow": {
     "slide_type": "slide"
    }
   },
   "source": [
    "# Julia idioms\n",
    "\n",
    "> With Matlab and Python, every programming problem is an exercise in mining \n",
    "the standard library for (you hope) just the right functions for your \n",
    "problem, because any code that you write yourself will be slow. Julia \n",
    "doesn't have that problem, and often the most straightforward code is also \n",
    "the best code.\n",
    "\n",
    "> Steven G. Johnson on julia-users, October 6, 2015"
   ]
  },
  {
   "cell_type": "markdown",
   "metadata": {
    "slideshow": {
     "slide_type": "subslide"
    }
   },
   "source": [
    "# Rule of thumb 1: Write loops\n",
    "\n",
    "The Golden Rule of Matlab/Python/R programming is not to write loops, because loops are slow. In Julia, we write loops because they are easier for the compiler (and often us) to understand."
   ]
  },
  {
   "cell_type": "markdown",
   "metadata": {},
   "source": [
    "# Rule of thumb 2: Care about types\n",
    "\n",
    "Type inference is how Julia generates efficient code. If your function takes a variable that Julia can't infer a type for, it will be typed as `Any`. At that point, you might as well be writing Python."
   ]
  },
  {
   "cell_type": "markdown",
   "metadata": {},
   "source": [
    "Learn to use macros like `@code_warntype` to find out how Julia is parsing your code!"
   ]
  },
  {
   "cell_type": "markdown",
   "metadata": {
    "slideshow": {
     "slide_type": "subslide"
    }
   },
   "source": [
    "# Rule of thumb 3: If you care about performance, read up\n",
    "\n",
    "[Performance tips](http://julia.readthedocs.org/en/latest/manual/performance-tips/) will save your sanity. Learn a little bit about memory layout of arrays (C vs FORTRAN style) and when arrays are shared vs copied."
   ]
  },
  {
   "cell_type": "markdown",
   "metadata": {},
   "source": [
    "# Rule of thumb 4: Prepare for change\n",
    "\n",
    "Julia is a work in progress. The language is still undergoing big, breaking changes. [Arraymageddon](https://github.com/JuliaLang/julia/issues/13157) is coming. Caveat emptor."
   ]
  },
  {
   "cell_type": "markdown",
   "metadata": {
    "slideshow": {
     "slide_type": "subslide"
    }
   },
   "source": [
    "There are lots of examples of Julia code out there. Two from my own work:\n",
    "\n",
    "- I implemented a [Kalman filter](https://github.com/jmxpearson/laf/blob/master/julia/SStools.jl) on the way to implementing [locally adaptive factor processes](https://github.com/jmxpearson/laf).\n",
    "\n",
    "- I implemented the pruned exact linear time ([PELT](https://github.com/jmxpearson/cpgas/blob/master/pelt_integration_test.ipynb)) algorithm from [Killick et al.](http://www.tandfonline.com/doi/abs/10.1080/01621459.2012.737745)."
   ]
  },
  {
   "cell_type": "markdown",
   "metadata": {
    "slideshow": {
     "slide_type": "slide"
    }
   },
   "source": [
    "# From here\n",
    "\n",
    "- v0.6 should have an official release soon. Some *big* (breaking) changes from 0.5 to 0.6, so [read up](https://github.com/JuliaLang/julia/blob/master/NEWS.md) before switching.\n",
    "\n",
    "- There are books in progress about Julia, but the best current source is still the [docs](http://julia.readthedocs.org/en/release-0.4/).\n",
    "\n",
    "- [Julia Statistics](https://github.com/JuliaStats) and [JuliaOpt](https://github.com/JuliaOpt) are strong, active package communities.\n",
    "\n",
    "- [Mocha.jl](https://github.com/pluskid/Mocha.jl) a Deep Learning framework, recently made Hacker News.\n",
    "\n",
    "- [STAN](https://github.com/goedman/Stan.jl) bindings are already available."
   ]
  },
  {
   "cell_type": "code",
   "execution_count": null,
   "metadata": {
    "collapsed": true
   },
   "outputs": [],
   "source": []
  }
 ],
 "metadata": {
  "celltoolbar": "Slideshow",
  "kernelspec": {
   "display_name": "Julia 0.5.0",
   "language": "julia",
   "name": "julia-0.5"
  },
  "language_info": {
   "file_extension": ".jl",
   "mimetype": "application/julia",
   "name": "julia",
   "version": "0.6.0"
  }
 },
 "nbformat": 4,
 "nbformat_minor": 0
}

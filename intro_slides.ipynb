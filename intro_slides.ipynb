{
 "cells": [
  {
   "cell_type": "markdown",
   "metadata": {
    "slideshow": {
     "slide_type": "slide"
    }
   },
   "source": [
    "# Introduction to Julia\n",
    "\n",
    "#### John Pearson and Tyler Ransom\n",
    "#### SSRI\n",
    "#### February 11, 2016"
   ]
  },
  {
   "cell_type": "markdown",
   "metadata": {
    "slideshow": {
     "slide_type": "subslide"
    }
   },
   "source": [
    "# Who is John?\n",
    "- Research Assistant Professor (Duke Institute for Brain Sciences)\n",
    "- Computational Neuroscience, Data Analysis Methods [pearsonlab.github.io](http://pearsonlab.github.io)\n",
    "- serious Julia user for about 9 months"
   ]
  },
  {
   "cell_type": "markdown",
   "metadata": {
    "slideshow": {
     "slide_type": "subslide"
    }
   },
   "source": [
    "# Who is Tyler?\n",
    "- Postdoctoral Associate (SSRI)\n",
    "- Labor economics (dynamic discrete choice modeling of college attendance, choice of major, and migration decisions)\n",
    "- serious Julia user for about 9 months"
   ]
  },
  {
   "cell_type": "markdown",
   "metadata": {
    "slideshow": {
     "slide_type": "subslide"
    }
   },
   "source": [
    "# Who are you?"
   ]
  },
  {
   "cell_type": "markdown",
   "metadata": {
    "slideshow": {
     "slide_type": "notes"
    }
   },
   "source": [
    "- What field (statistics, sociology, economics, etc.)?\n",
    "- What languages are you coming from (R, Python, Stata, C/C++)?\n",
    "- What types of computing?:\n",
    "    - algorithms\n",
    "    - optimization\n",
    "    - data analysis\n",
    "    - modeling"
   ]
  },
  {
   "cell_type": "markdown",
   "metadata": {
    "slideshow": {
     "slide_type": "slide"
    }
   },
   "source": [
    "# What is Julia?\n",
    "\n",
    "![Gaston Julia](http://katgym.by.lo-net2.de/c.wolfseher/chaos/gaston.gif)\n",
    "\n",
    "- new programming language (public since 2012)\n",
    "- brought to you by MIT, Julia Computing\n",
    "- focused on scientific computing applications"
   ]
  },
  {
   "cell_type": "markdown",
   "metadata": {
    "slideshow": {
     "slide_type": "slide"
    }
   },
   "source": [
    "- aims to be a high-level prototyping language that is also fast enough for serious simulation\n",
    "    - as easy to learn and flexible as Python or R\n",
    "    - within 2x the speed of C, C++, or FORTRAN\n",
    "- Currently 0.4.3, soon to be 0.5, with very active developer community (more later)"
   ]
  },
  {
   "cell_type": "markdown",
   "metadata": {
    "slideshow": {
     "slide_type": "slide"
    }
   },
   "source": [
    "# Reasons to Consider Julia\n",
    "\n",
    "- you mostly write your own algorithms\n",
    "- you need to write code that is very fast\n",
    "- you’d like to prototype and optimize within the same language\n",
    "- you want zero boilerplate calls to C, Python (and soon C++)\n",
    "- you need powerful metaprogramming/macros\n",
    "- you want access to state-of-the-art automatic differentiation and optimization\n",
    "- you want to use Greek letters in variable names!\n",
    "- you are interested in programming language design\n",
    "- you want to get in on the ground floor\n"
   ]
  },
  {
   "cell_type": "markdown",
   "metadata": {
    "slideshow": {
     "slide_type": "slide"
    }
   },
   "source": [
    "# Reasons Julia may not be for you (yet)\n",
    "\n",
    "- you mostly use packages written by others\n",
    "- you rely critically on several packages that aren't available\n",
    "- you don’t have much need to optimize your code\n",
    "- you perform mostly data analysis and model building, as opposed to algorithm development\n",
    "- you prioritize stability and reliability \n",
    "    - (or don’t write a lot of tests for your own code)\n",
    "- you don’t want to devote time to keeping up with changes\n",
    "- you have zero background with compiled languages"
   ]
  },
  {
   "cell_type": "markdown",
   "metadata": {
    "slideshow": {
     "slide_type": "slide"
    }
   },
   "source": [
    "# What makes Julia different?\n",
    "\n",
    "- just in time (JIT) compilation\n",
    "- rich type system\n",
    "- multiple dispatch\n",
    "- metaprogramming (programs that write programs: think C macros, STAN)\n",
    "- no more fear of writing loops\n",
    "\n",
    "More on each of these later!"
   ]
  },
  {
   "cell_type": "markdown",
   "metadata": {
    "slideshow": {
     "slide_type": "slide"
    }
   },
   "source": [
    "# Learning Julia\n",
    "\n",
    "- [Julia homepage](http://julialang.org/)\n",
    "- [Learning resources](http://julialang.org/learning/)\n",
    "- [Docs](http://julia.readthedocs.org/en/release-0.4/) \n",
    "    - more comprehensive and up-to-date than most other info\n",
    "- [JuliaBox](www.juliabox.org) will let you try out Julia in a Jupyter notebook without an install\n",
    "- [YouTube](https://www.youtube.com/user/JuliaLanguage)\n",
    "- [GitHub](https://github.com/JuliaLang/julia)\n",
    "    - this is where most of the development discussion takes place\n",
    "    - being GitHub-friendly currently important\n",
    "- [julia-users list](https://groups.google.com/forum/#!forum/julia-users)"
   ]
  },
  {
   "cell_type": "markdown",
   "metadata": {
    "slideshow": {
     "slide_type": "slide"
    }
   },
   "source": [
    "# REPL time"
   ]
  },
  {
   "cell_type": "markdown",
   "metadata": {
    "slideshow": {
     "slide_type": "notes"
    }
   },
   "source": [
    "# REPL\n",
    "REPL = **R**ead **E**val **P**rint **L**oop = interactive console\n",
    "\n",
    "- open terminal\n",
    "- type `julia`\n",
    "- wait for everyone to get a prompt\n",
    "\n",
    "## Cool things you can do\n",
    "- basic calculator functions\n",
    "- up for last command; basic Emacs key bindings\n",
    "- `;` = shell mode (but not a real shell) (though cf `run`)\n",
    "- `?` = help mode (try `?run`)\n",
    "- also more specific helps (`methods`, `methodswith`, later)\n",
    "- finally `typeof` tells us the type of a variable or expression\n",
    "    - `typeof(5)`\n",
    "    - `typeof(4.3)`"
   ]
  },
  {
   "cell_type": "markdown",
   "metadata": {
    "slideshow": {
     "slide_type": "notes"
    }
   },
   "source": [
    "# Basic Data Operations"
   ]
  },
  {
   "cell_type": "markdown",
   "metadata": {
    "slideshow": {
     "slide_type": "slide"
    }
   },
   "source": [
    "# Other data types:"
   ]
  },
  {
   "cell_type": "markdown",
   "metadata": {
    "slideshow": {
     "slide_type": "subslide"
    }
   },
   "source": [
    "## Tuple\n",
    "- collection of function arguments\n",
    "- immutable => fast"
   ]
  },
  {
   "cell_type": "code",
   "execution_count": 1,
   "metadata": {
    "collapsed": false
   },
   "outputs": [
    {
     "data": {
      "text/plain": [
       "1"
      ]
     },
     "execution_count": 1,
     "metadata": {},
     "output_type": "execute_result"
    }
   ],
   "source": [
    "t = (1, 2)\n",
    "typeof(t)\n",
    "\n",
    "u = \"velociraptor\", 2.2\n",
    "typeof(u)\n",
    "\n",
    "t[1]"
   ]
  },
  {
   "cell_type": "code",
   "execution_count": 2,
   "metadata": {
    "collapsed": false
   },
   "outputs": [
    {
     "data": {
      "text/plain": [
       "\"velociraptor\""
      ]
     },
     "execution_count": 2,
     "metadata": {},
     "output_type": "execute_result"
    }
   ],
   "source": [
    "u[1]"
   ]
  },
  {
   "cell_type": "code",
   "execution_count": 3,
   "metadata": {
    "collapsed": false
   },
   "outputs": [
    {
     "ename": "LoadError",
     "evalue": "LoadError: MethodError: `+` has no method matching +(::Tuple{Int64,Int64}, ::Tuple{ASCIIString,Float64})\nClosest candidates are:\n  +(::Any, ::Any, !Matched::Any, !Matched::Any...)\nwhile loading In[3], in expression starting on line 1",
     "output_type": "error",
     "traceback": [
      "LoadError: MethodError: `+` has no method matching +(::Tuple{Int64,Int64}, ::Tuple{ASCIIString,Float64})\nClosest candidates are:\n  +(::Any, ::Any, !Matched::Any, !Matched::Any...)\nwhile loading In[3], in expression starting on line 1",
      ""
     ]
    }
   ],
   "source": [
    "t + u"
   ]
  },
  {
   "cell_type": "code",
   "execution_count": 12,
   "metadata": {
    "collapsed": false,
    "slideshow": {
     "slide_type": "notes"
    }
   },
   "outputs": [
    {
     "data": {
      "text/plain": [
       "((1,2),(\"velociraptor\",2.2))"
      ]
     },
     "execution_count": 12,
     "metadata": {},
     "output_type": "execute_result"
    }
   ],
   "source": [
    "# t + u  # doesn't work\n",
    " \n",
    "vcat(t, u)  # also doesn't work\n",
    "\n",
    "tuple(t, u)  # also doesn't work"
   ]
  },
  {
   "cell_type": "code",
   "execution_count": 5,
   "metadata": {
    "collapsed": false
   },
   "outputs": [
    {
     "data": {
      "text/plain": [
       "(1,2,\"velociraptor\",2.2)"
      ]
     },
     "execution_count": 5,
     "metadata": {},
     "output_type": "execute_result"
    }
   ],
   "source": [
    "tuple(t..., u...)"
   ]
  },
  {
   "cell_type": "code",
   "execution_count": 8,
   "metadata": {
    "collapsed": false,
    "slideshow": {
     "slide_type": "notes"
    }
   },
   "outputs": [
    {
     "ename": "LoadError",
     "evalue": "LoadError: syntax: invalid ... on non-final argument\nwhile loading In[8], in expression starting on line 10",
     "output_type": "error",
     "traceback": [
      "LoadError: syntax: invalid ... on non-final argument\nwhile loading In[8], in expression starting on line 10",
      ""
     ]
    }
   ],
   "source": [
    "# detour:\n",
    "# if we want to \"unpack\" tuples, we \"splat\" them with ... (cf * in Python):\n",
    "tuple(t..., u)\n",
    "tuple(t..., u...)\n",
    "\n",
    "# sometimes, we want to \"pack\" or \"slurp\" tuples (careful, can cause slow vararg functions!)\n",
    "function packer(z..., u)\n",
    "    z  # no return statement; all arguments packed in z\n",
    "end\n",
    "\n",
    "aa = packer(t..., u)\n",
    "println(aa)\n",
    "typeof(aa)"
   ]
  },
  {
   "cell_type": "code",
   "execution_count": 7,
   "metadata": {
    "collapsed": false
   },
   "outputs": [
    {
     "name": "stdout",
     "output_type": "stream",
     "text": [
      "                          Base  24832 KB     Module\n",
      "                        Compat     58 KB     Module\n",
      "                          Core   3315 KB     Module\n",
      "                        IJulia    361 KB     Module\n",
      "                IPythonDisplay     27 KB     Module\n",
      "                          JSON    193 KB     Module\n",
      "                          Main  28262 KB     Module\n",
      "                        Nettle     40 KB     Module\n",
      "                           ZMQ     79 KB     Module\n",
      "                            aa     60 bytes  Tuple{Int64,Int64,Tuple{ASCIIStrin…\n",
      "                        packer    990 bytes  Function\n",
      "                             t     16 bytes  Tuple{Int64,Int64}\n",
      "                             u     36 bytes  Tuple{ASCIIString,Float64}\n"
     ]
    }
   ],
   "source": [
    "whos()"
   ]
  },
  {
   "cell_type": "markdown",
   "metadata": {
    "slideshow": {
     "slide_type": "slide"
    }
   },
   "source": [
    "# Dictionary\n",
    "\n",
    "- aka, \"map,\" \"hashmap,\" \"associative array,\" \"key-value store\"\n",
    "- some similarity to structs in Matlab or lists in R, but only slightly\n",
    "- like Python dictionaries, but types matter (keys are usually all the same type, as are values)\n",
    "\n"
   ]
  },
  {
   "cell_type": "code",
   "execution_count": 9,
   "metadata": {
    "collapsed": false
   },
   "outputs": [
    {
     "data": {
      "text/plain": [
       "Pair{ASCIIString,Float64}"
      ]
     },
     "execution_count": 9,
     "metadata": {},
     "output_type": "execute_result"
    }
   ],
   "source": [
    "# we write a pair as\n",
    "p = \"key\" => 2.\n",
    "typeof(p)"
   ]
  },
  {
   "cell_type": "code",
   "execution_count": 10,
   "metadata": {
    "collapsed": false
   },
   "outputs": [
    {
     "data": {
      "text/plain": [
       "Dict{ASCIIString,Any} with 2 entries:\n",
       "  \"key\"  => 2\n",
       "  \"lock\" => 4.0"
      ]
     },
     "execution_count": 10,
     "metadata": {},
     "output_type": "execute_result"
    }
   ],
   "source": [
    "d = Dict(\"key\" => 2, \"lock\" => 4.)\n",
    "# typeof(d) = Dict{ASCIIString,Any}\n",
    "# Any is any type of variable (Any = bad performance!)"
   ]
  },
  {
   "cell_type": "code",
   "execution_count": 11,
   "metadata": {
    "collapsed": false
   },
   "outputs": [
    {
     "data": {
      "text/plain": [
       "Base.ValueIterator for a Dict{ASCIIString,Float64} with 2 entries. Values:\n",
       "  2.0\n",
       "  4.0"
      ]
     },
     "execution_count": 11,
     "metadata": {},
     "output_type": "execute_result"
    }
   ],
   "source": [
    "d = Dict(\"key\" => 2., \"lock\" => 4.)\n",
    "# typeof(d) = Dict{ASCIIString,Float64}\n",
    "\n",
    "keys(d)  # not d.keys()!\n",
    "values(d)"
   ]
  },
  {
   "cell_type": "code",
   "execution_count": 12,
   "metadata": {
    "collapsed": false
   },
   "outputs": [
    {
     "name": "stdout",
     "output_type": "stream",
     "text": [
      "entry: key => 2.0\n",
      "entry: lock => 4.0\n"
     ]
    }
   ],
   "source": [
    "for (k, v) in d  # order of iteration not guaranteed!\n",
    "    println(\"entry: $k => $v\")  # string interpolation!\n",
    "end"
   ]
  },
  {
   "cell_type": "code",
   "execution_count": 13,
   "metadata": {
    "collapsed": false
   },
   "outputs": [
    {
     "data": {
      "text/plain": [
       "Dict{Symbol,Float64} with 2 entries:\n",
       "  :lock => 4.0\n",
       "  :key  => 2.0"
      ]
     },
     "execution_count": 13,
     "metadata": {},
     "output_type": "execute_result"
    }
   ],
   "source": [
    "# by convention, keys in Julia are often symbols (:a) rather than strings\n",
    "d = Dict(:key => 2., :lock => 4.)\n",
    "# typeof(d) = Dict{Symbol,Float64}"
   ]
  },
  {
   "cell_type": "code",
   "execution_count": 14,
   "metadata": {
    "collapsed": false,
    "slideshow": {
     "slide_type": "notes"
    }
   },
   "outputs": [
    {
     "name": "stdout",
     "output_type": "stream",
     "text": [
      "entry: lock => 4.0\n",
      "entry: key => 2.0\n"
     ]
    }
   ],
   "source": [
    "# more on this later (basically, symbols in Exprs don't then have to be converted from strings)\n",
    "for (k, v) in d\n",
    "    println(\"entry: $k => $v\")  # string interpolation!\n",
    "end"
   ]
  },
  {
   "cell_type": "markdown",
   "metadata": {
    "slideshow": {
     "slide_type": "slide"
    }
   },
   "source": [
    "# Plotting things\n",
    "\n",
    "## PyPlot\n",
    "\n",
    "Julia has a great interface to Python "
   ]
  },
  {
   "cell_type": "code",
   "execution_count": 2,
   "metadata": {
    "collapsed": false,
    "slideshow": {
     "slide_type": "fragment"
    }
   },
   "outputs": [
    {
     "data": {
      "text/plain": [
       "5x5 Array{Float64,2}:\n",
       " 0.466497  0.637273  0.936271   0.691848  0.722211\n",
       " 0.676136  0.299054  0.0987718  0.231518  0.245828\n",
       " 0.444059  0.364189  0.30476    0.696461  0.950749\n",
       " 0.653539  0.77787   0.130188   0.618771  0.488294\n",
       " 0.80391   0.975424  0.652543   0.389838  0.813341"
      ]
     },
     "execution_count": 2,
     "metadata": {},
     "output_type": "execute_result"
    }
   ],
   "source": [
    "using PyCall\n",
    "\n",
    "@pyimport numpy\n",
    "\n",
    "R = numpy.random[:rand](5, 5)"
   ]
  },
  {
   "cell_type": "markdown",
   "metadata": {
    "slideshow": {
     "slide_type": "subslide"
    }
   },
   "source": [
    "# PyPlot allows us to use Matplotlib"
   ]
  },
  {
   "cell_type": "code",
   "execution_count": null,
   "metadata": {
    "collapsed": false,
    "slideshow": {
     "slide_type": "fragment"
    }
   },
   "outputs": [],
   "source": [
    "using PyPlot\n",
    "\n",
    "matshow(R)"
   ]
  },
  {
   "cell_type": "markdown",
   "metadata": {
    "slideshow": {
     "slide_type": "subslide"
    }
   },
   "source": [
    "## Gadfly"
   ]
  },
  {
   "cell_type": "markdown",
   "metadata": {
    "slideshow": {
     "slide_type": "slide"
    }
   },
   "source": [
    "# How Julia makes your code fast"
   ]
  },
  {
   "cell_type": "markdown",
   "metadata": {
    "slideshow": {
     "slide_type": "subslide"
    }
   },
   "source": [
    "# Just-in-time (JIT) compilation\n",
    "\n",
    "- compilers transform written code to machine code\n",
    "    - much faster\n",
    "    - typically a separate step\n",
    "- JIT compilers work at runtime\n",
    "    - can be very fast with modern methods\n",
    "- Julia uses [LLVM](http://llvm.org/) as a backend"
   ]
  },
  {
   "cell_type": "markdown",
   "metadata": {
    "slideshow": {
     "slide_type": "subslide"
    }
   },
   "source": [
    "# [The Julia compilation process](http://blog.leahhanson.us/julia-introspects.html)\n",
    "\n",
    "- Parsing (Abstract Syntax Tree; AST)\n",
    "    - macro expansion\n",
    "- Code lowering\n",
    "- Code typing\n",
    "- LLVM\n",
    "- machine code\n",
    "\n"
   ]
  },
  {
   "cell_type": "markdown",
   "metadata": {
    "slideshow": {
     "slide_type": "slide"
    }
   },
   "source": [
    "# Julia's type system\n",
    "\n",
    "- variables in code have types (int, float, etc.)\n",
    "- compilers use type information to generate efficient code\n",
    "- like objects, but focus on data, not behavior\n",
    "    - [Execution in the Kingdom of Nouns](http://steve-yegge.blogspot.com/2006/03/execution-in-kingdom-of-nouns.html)\n",
    "    - much more like structs in C\n",
    "- use types for data, methods for behavior\n",
    "- key to understanding how Julia code is organized and what makes it fast"
   ]
  },
  {
   "cell_type": "markdown",
   "metadata": {
    "slideshow": {
     "slide_type": "subslide"
    }
   },
   "source": [
    "# More on types\n",
    "\n",
    "- two types of types:\n",
    "    - Abstract: \n",
    "        - never instantiated\n",
    "        - tree structure (no multiple inheritance)\n",
    "    - Concrete:\n",
    "        - only \"leaf types\"\n",
    "        - fast, optimized code\n",
    "- key functions:\n",
    "    - `typeof`\n",
    "    - `super` and `subtypes`\n",
    "    - `::` and `<:`"
   ]
  },
  {
   "cell_type": "code",
   "execution_count": 1,
   "metadata": {
    "collapsed": false,
    "slideshow": {
     "slide_type": "subslide"
    }
   },
   "outputs": [
    {
     "data": {
      "text/plain": [
       "Int64"
      ]
     },
     "execution_count": 1,
     "metadata": {},
     "output_type": "execute_result"
    }
   ],
   "source": [
    "typeof(1)"
   ]
  },
  {
   "cell_type": "code",
   "execution_count": 2,
   "metadata": {
    "collapsed": false
   },
   "outputs": [
    {
     "data": {
      "text/plain": [
       "Float64"
      ]
     },
     "execution_count": 2,
     "metadata": {},
     "output_type": "execute_result"
    }
   ],
   "source": [
    "typeof(1.1)"
   ]
  },
  {
   "cell_type": "markdown",
   "metadata": {},
   "source": [
    "Strings always have \" \", chars have ' '"
   ]
  },
  {
   "cell_type": "code",
   "execution_count": 3,
   "metadata": {
    "collapsed": false
   },
   "outputs": [
    {
     "data": {
      "text/plain": [
       "Char"
      ]
     },
     "execution_count": 3,
     "metadata": {},
     "output_type": "execute_result"
    }
   ],
   "source": [
    "typeof('a')"
   ]
  },
  {
   "cell_type": "code",
   "execution_count": 4,
   "metadata": {
    "collapsed": false
   },
   "outputs": [
    {
     "data": {
      "text/plain": [
       "ASCIIString"
      ]
     },
     "execution_count": 4,
     "metadata": {},
     "output_type": "execute_result"
    }
   ],
   "source": [
    "typeof(\"alphabet\")"
   ]
  },
  {
   "cell_type": "markdown",
   "metadata": {
    "slideshow": {
     "slide_type": "subslide"
    }
   },
   "source": [
    "We can find out about the type tree:"
   ]
  },
  {
   "cell_type": "code",
   "execution_count": 5,
   "metadata": {
    "collapsed": false
   },
   "outputs": [
    {
     "data": {
      "text/plain": [
       "AbstractFloat"
      ]
     },
     "execution_count": 5,
     "metadata": {},
     "output_type": "execute_result"
    }
   ],
   "source": [
    "super(Float64)"
   ]
  },
  {
   "cell_type": "code",
   "execution_count": 6,
   "metadata": {
    "collapsed": false
   },
   "outputs": [
    {
     "data": {
      "text/plain": [
       "Real"
      ]
     },
     "execution_count": 6,
     "metadata": {},
     "output_type": "execute_result"
    }
   ],
   "source": [
    "super(AbstractFloat)"
   ]
  },
  {
   "cell_type": "code",
   "execution_count": 7,
   "metadata": {
    "collapsed": false
   },
   "outputs": [
    {
     "data": {
      "text/plain": [
       "Number"
      ]
     },
     "execution_count": 7,
     "metadata": {},
     "output_type": "execute_result"
    }
   ],
   "source": [
    "super(Real)"
   ]
  },
  {
   "cell_type": "code",
   "execution_count": 8,
   "metadata": {
    "collapsed": false
   },
   "outputs": [
    {
     "data": {
      "text/plain": [
       "Any"
      ]
     },
     "execution_count": 8,
     "metadata": {},
     "output_type": "execute_result"
    }
   ],
   "source": [
    "super(Number)"
   ]
  },
  {
   "cell_type": "code",
   "execution_count": 9,
   "metadata": {
    "collapsed": false
   },
   "outputs": [
    {
     "data": {
      "text/plain": [
       "Any"
      ]
     },
     "execution_count": 9,
     "metadata": {},
     "output_type": "execute_result"
    }
   ],
   "source": [
    "super(Any)"
   ]
  },
  {
   "cell_type": "markdown",
   "metadata": {
    "slideshow": {
     "slide_type": "subslide"
    }
   },
   "source": [
    "More on the type tree:\n",
    "\n",
    "Everything is a subtype of `Any`:"
   ]
  },
  {
   "cell_type": "code",
   "execution_count": 10,
   "metadata": {
    "collapsed": false
   },
   "outputs": [
    {
     "data": {
      "text/plain": [
       "241-element Array{Any,1}:\n",
       " AbstractArray{T,N}                        \n",
       " AbstractChannel{T}                        \n",
       " AbstractRNG                               \n",
       " AbstractString                            \n",
       " Any                                       \n",
       " Associative{K,V}                          \n",
       " Base.AbstractCmd                          \n",
       " Base.AbstractMsg                          \n",
       " Base.AbstractZipIterator                  \n",
       " Base.Cartesian.LReplace{S<:AbstractString}\n",
       " Base.Combinations{T}                      \n",
       " Base.Count{S<:Number}                     \n",
       " Base.Cycle{I}                             \n",
       " ⋮                                         \n",
       " TypeVar                                   \n",
       " Type{T}                                   \n",
       " UniformScaling{T<:Number}                 \n",
       " Val{T}                                    \n",
       " Vararg{T}                                 \n",
       " VersionNumber                             \n",
       " Void                                      \n",
       " WeakRef                                   \n",
       " WorkerConfig                              \n",
       " ZMQ.Context                               \n",
       " ZMQ.MsgPadding                            \n",
       " ZMQ.Socket                                "
      ]
     },
     "execution_count": 10,
     "metadata": {},
     "output_type": "execute_result"
    }
   ],
   "source": [
    "subtypes(Any)"
   ]
  },
  {
   "cell_type": "markdown",
   "metadata": {
    "slideshow": {
     "slide_type": "subslide"
    }
   },
   "source": [
    "We can also test type relationships"
   ]
  },
  {
   "cell_type": "code",
   "execution_count": 11,
   "metadata": {
    "collapsed": false
   },
   "outputs": [
    {
     "data": {
      "text/plain": [
       "true"
      ]
     },
     "execution_count": 11,
     "metadata": {},
     "output_type": "execute_result"
    }
   ],
   "source": [
    "isa(1.1, Float64)"
   ]
  },
  {
   "cell_type": "code",
   "execution_count": 12,
   "metadata": {
    "collapsed": false
   },
   "outputs": [
    {
     "data": {
      "text/plain": [
       "true"
      ]
     },
     "execution_count": 12,
     "metadata": {},
     "output_type": "execute_result"
    }
   ],
   "source": [
    "Number <: Any"
   ]
  },
  {
   "cell_type": "code",
   "execution_count": 13,
   "metadata": {
    "collapsed": false
   },
   "outputs": [
    {
     "data": {
      "text/plain": [
       "true"
      ]
     },
     "execution_count": 13,
     "metadata": {},
     "output_type": "execute_result"
    }
   ],
   "source": [
    "Real <: Number"
   ]
  },
  {
   "cell_type": "code",
   "execution_count": 14,
   "metadata": {
    "collapsed": false
   },
   "outputs": [
    {
     "data": {
      "text/plain": [
       "true"
      ]
     },
     "execution_count": 14,
     "metadata": {},
     "output_type": "execute_result"
    }
   ],
   "source": [
    "Integer <: Real"
   ]
  },
  {
   "cell_type": "code",
   "execution_count": 15,
   "metadata": {
    "collapsed": false
   },
   "outputs": [
    {
     "data": {
      "text/plain": [
       "false"
      ]
     },
     "execution_count": 15,
     "metadata": {},
     "output_type": "execute_result"
    }
   ],
   "source": [
    "Integer <: AbstractFloat"
   ]
  },
  {
   "cell_type": "markdown",
   "metadata": {
    "slideshow": {
     "slide_type": "subslide"
    }
   },
   "source": [
    "Finally, some types can have parameters (like template objects in C++/Java):"
   ]
  },
  {
   "cell_type": "code",
   "execution_count": 16,
   "metadata": {
    "collapsed": false
   },
   "outputs": [
    {
     "data": {
      "text/plain": [
       "10-element Array{Int64,1}:\n",
       "  1\n",
       "  2\n",
       "  3\n",
       "  4\n",
       "  5\n",
       "  6\n",
       "  7\n",
       "  8\n",
       "  9\n",
       " 10"
      ]
     },
     "execution_count": 16,
     "metadata": {},
     "output_type": "execute_result"
    }
   ],
   "source": [
    "aa = [1:10]"
   ]
  },
  {
   "cell_type": "code",
   "execution_count": 17,
   "metadata": {
    "collapsed": false
   },
   "outputs": [
    {
     "data": {
      "text/plain": [
       "Array{Int64,1}"
      ]
     },
     "execution_count": 17,
     "metadata": {},
     "output_type": "execute_result"
    }
   ],
   "source": [
    "typeof(aa)"
   ]
  },
  {
   "cell_type": "code",
   "execution_count": 18,
   "metadata": {
    "collapsed": false
   },
   "outputs": [
    {
     "data": {
      "text/plain": [
       "Array{Float64,2}"
      ]
     },
     "execution_count": 18,
     "metadata": {},
     "output_type": "execute_result"
    }
   ],
   "source": [
    "typeof(rand(5, 5))"
   ]
  },
  {
   "cell_type": "markdown",
   "metadata": {
    "slideshow": {
     "slide_type": "subslide"
    }
   },
   "source": [
    "# Types: Summary\n",
    "\n",
    "- data types in Julia form a hierarchy tree\n",
    "- \"leaf\" types are concrete; all others abstract\n",
    "    - abstract types are slow because the compiler can't specialize\n",
    "- types are a way of adapting to your problem domain\n",
    "    - but designing your own type hierarchy can be tricky\n",
    "- type stability is key to good performance\n",
    "    - but you *usually* need to type inputs"
   ]
  },
  {
   "cell_type": "markdown",
   "metadata": {
    "slideshow": {
     "slide_type": "slide"
    }
   },
   "source": [
    "# Multiple Dispatch\n",
    "\n",
    "If Julia's types are just data, not objects, how do we encode type behavior?"
   ]
  },
  {
   "cell_type": "markdown",
   "metadata": {},
   "source": [
    "Julia (like R, C++ operators), choosing among *different* functions of the *same name* based on the types of arguments. This is called **multiple dispatch**."
   ]
  },
  {
   "cell_type": "code",
   "execution_count": 1,
   "metadata": {
    "collapsed": false,
    "slideshow": {
     "slide_type": "subslide"
    }
   },
   "outputs": [
    {
     "name": "stdout",
     "output_type": "stream",
     "text": [
      "search: imag UniformScaling ismatch ismarked minmax eigmax BitMatrix indmax\n",
      "\n"
     ]
    },
    {
     "data": {
      "text/latex": [
       "\\begin{verbatim}\n",
       "imag(z)\n",
       "\\end{verbatim}\n",
       "Return the imaginary part of the complex number \\texttt{z}\n"
      ],
      "text/markdown": [
       "```\n",
       "imag(z)\n",
       "```\n",
       "\n",
       "Return the imaginary part of the complex number `z`\n"
      ],
      "text/plain": [
       "```\n",
       "imag(z)\n",
       "```\n",
       "\n",
       "Return the imaginary part of the complex number `z`\n"
      ]
     },
     "execution_count": 1,
     "metadata": {},
     "output_type": "execute_result"
    }
   ],
   "source": [
    "?imag"
   ]
  },
  {
   "cell_type": "code",
   "execution_count": 20,
   "metadata": {
    "collapsed": false
   },
   "outputs": [
    {
     "name": "stdout",
     "output_type": "stream",
     "text": [
      "imag UniformScaling ismatch ismarked minmax eigmax BitMatrix indmax\n",
      "\n"
     ]
    },
    {
     "data": {
      "text/html": [
       "15 methods for generic function <b>imag</b>:<ul><li> imag(z::<b>Complex{T<:Real}</b>) at <a href=\"https://github.com/JuliaLang/julia/tree/483d54827262bf63fe3f3f3767040a95b647559f/base/complex.jl#L32\" target=\"_blank\">complex.jl:32</a><li> imag(x::<b>Real</b>) at <a href=\"https://github.com/JuliaLang/julia/tree/483d54827262bf63fe3f3f3767040a95b647559f/base/complex.jl#L34\" target=\"_blank\">complex.jl:34</a><li> imag<i>{T<:Real}</i>(x::<b>Union{DenseArray{T<:Real,N},SubArray{T<:Real,N,A<:DenseArray{T,N},I<:Tuple{Vararg{Union{Colon,Int64,Range{Int64}}}},LD}}</b>) at <a href=\"https://github.com/JuliaLang/julia/tree/483d54827262bf63fe3f3f3767040a95b647559f/base/arraymath.jl#L29\" target=\"_blank\">arraymath.jl:29</a><li> imag(A::<b>Union{DenseArray{T,N},SubArray{T,N,A<:DenseArray{T,N},I<:Tuple{Vararg{Union{Colon,Int64,Range{Int64}}}},LD}}</b>) at <a href=\"https://github.com/JuliaLang/julia/tree/483d54827262bf63fe3f3f3767040a95b647559f/base/arraymath.jl#L27\" target=\"_blank\">arraymath.jl:27</a><li> imag(M::<b>SymTridiagonal{T}</b>) at <a href=\"https://github.com/JuliaLang/julia/tree/483d54827262bf63fe3f3f3767040a95b647559f/base/linalg/tridiag.jl#L63\" target=\"_blank\">linalg/tridiag.jl:63</a><li> imag(M::<b>Tridiagonal{T}</b>) at <a href=\"https://github.com/JuliaLang/julia/tree/483d54827262bf63fe3f3f3767040a95b647559f/base/linalg/tridiag.jl#L320\" target=\"_blank\">linalg/tridiag.jl:320</a><li> imag(A::<b>UpperTriangular{T,S<:AbstractArray{T,2}}</b>) at <a href=\"https://github.com/JuliaLang/julia/tree/483d54827262bf63fe3f3f3767040a95b647559f/base/linalg/triangular.jl#L46\" target=\"_blank\">linalg/triangular.jl:46</a><li> imag(A::<b>LowerTriangular{T,S<:AbstractArray{T,2}}</b>) at <a href=\"https://github.com/JuliaLang/julia/tree/483d54827262bf63fe3f3f3767040a95b647559f/base/linalg/triangular.jl#L47\" target=\"_blank\">linalg/triangular.jl:47</a><li> imag(A::<b>Base.LinAlg.UnitLowerTriangular{T,S<:AbstractArray{T,2}}</b>) at <a href=\"https://github.com/JuliaLang/julia/tree/483d54827262bf63fe3f3f3767040a95b647559f/base/linalg/triangular.jl#L48\" target=\"_blank\">linalg/triangular.jl:48</a><li> imag(A::<b>Base.LinAlg.UnitUpperTriangular{T,S<:AbstractArray{T,2}}</b>) at <a href=\"https://github.com/JuliaLang/julia/tree/483d54827262bf63fe3f3f3767040a95b647559f/base/linalg/triangular.jl#L49\" target=\"_blank\">linalg/triangular.jl:49</a><li> imag(D::<b>Diagonal{T}</b>) at <a href=\"https://github.com/JuliaLang/julia/tree/483d54827262bf63fe3f3f3767040a95b647559f/base/linalg/diagonal.jl#L60\" target=\"_blank\">linalg/diagonal.jl:60</a><li> imag(M::<b>Bidiagonal{T}</b>) at <a href=\"https://github.com/JuliaLang/julia/tree/483d54827262bf63fe3f3f3767040a95b647559f/base/linalg/bidiag.jl#L113\" target=\"_blank\">linalg/bidiag.jl:113</a><li> imag<i>{Tv<:Complex{T<:Real},Ti}</i>(A::<b>SparseMatrixCSC{Tv<:Complex{T<:Real},Ti}</b>) at <a href=\"https://github.com/JuliaLang/julia/tree/483d54827262bf63fe3f3f3767040a95b647559f/base/sparse/sparsematrix.jl#L548\" target=\"_blank\">sparse/sparsematrix.jl:548</a><li> imag<i>{Tv<:Number,Ti}</i>(A::<b>SparseMatrixCSC{Tv<:Number,Ti}</b>) at <a href=\"https://github.com/JuliaLang/julia/tree/483d54827262bf63fe3f3f3767040a95b647559f/base/sparse/sparsematrix.jl#L552\" target=\"_blank\">sparse/sparsematrix.jl:552</a><li> imag<i>{T<:Real}</i>(x::<b>AbstractArray{T<:Real,N}</b>) at <a href=\"https://github.com/JuliaLang/julia/tree/483d54827262bf63fe3f3f3767040a95b647559f/base/abstractarraymath.jl#L47\" target=\"_blank\">abstractarraymath.jl:47</a></ul>"
      ],
      "text/plain": [
       "# 15 methods for generic function \"imag\":\n",
       "imag(z::Complex{T<:Real}) at complex.jl:32\n",
       "imag(x::Real) at complex.jl:34\n",
       "imag{T<:Real}(x::Union{DenseArray{T<:Real,N},SubArray{T<:Real,N,A<:DenseArray{T,N},I<:Tuple{Vararg{Union{Colon,Int64,Range{Int64}}}},LD}}) at arraymath.jl:29\n",
       "imag(A::Union{DenseArray{T,N},SubArray{T,N,A<:DenseArray{T,N},I<:Tuple{Vararg{Union{Colon,Int64,Range{Int64}}}},LD}}) at arraymath.jl:27\n",
       "imag(M::SymTridiagonal{T}) at linalg/tridiag.jl:63\n",
       "imag(M::Tridiagonal{T}) at linalg/tridiag.jl:320\n",
       "imag(A::UpperTriangular{T,S<:AbstractArray{T,2}}) at linalg/triangular.jl:46\n",
       "imag(A::LowerTriangular{T,S<:AbstractArray{T,2}}) at linalg/triangular.jl:47\n",
       "imag(A::Base.LinAlg.UnitLowerTriangular{T,S<:AbstractArray{T,2}}) at linalg/triangular.jl:48\n",
       "imag(A::Base.LinAlg.UnitUpperTriangular{T,S<:AbstractArray{T,2}}) at linalg/triangular.jl:49\n",
       "imag(D::Diagonal{T}) at linalg/diagonal.jl:60\n",
       "imag(M::Bidiagonal{T}) at linalg/bidiag.jl:113\n",
       "imag{Tv<:Complex{T<:Real},Ti}(A::SparseMatrixCSC{Tv<:Complex{T<:Real},Ti}) at sparse/sparsematrix.jl:548\n",
       "imag{Tv<:Number,Ti}(A::SparseMatrixCSC{Tv<:Number,Ti}) at sparse/sparsematrix.jl:552\n",
       "imag{T<:Real}(x::AbstractArray{T<:Real,N}) at abstractarraymath.jl:47"
      ]
     },
     "execution_count": 20,
     "metadata": {},
     "output_type": "execute_result"
    }
   ],
   "source": [
    "methods(imag)"
   ]
  },
  {
   "cell_type": "markdown",
   "metadata": {
    "slideshow": {
     "slide_type": "subslide"
    }
   },
   "source": [
    "So, for instance:"
   ]
  },
  {
   "cell_type": "code",
   "execution_count": 21,
   "metadata": {
    "collapsed": false
   },
   "outputs": [
    {
     "data": {
      "text/plain": [
       "foo (generic function with 2 methods)"
      ]
     },
     "execution_count": 21,
     "metadata": {},
     "output_type": "execute_result"
    }
   ],
   "source": [
    "function foo(x::AbstractFloat)\n",
    "    x^2\n",
    "end\n",
    "\n",
    "function foo(x::Integer)\n",
    "    x/2\n",
    "end"
   ]
  },
  {
   "cell_type": "code",
   "execution_count": 22,
   "metadata": {
    "collapsed": false
   },
   "outputs": [
    {
     "data": {
      "text/plain": [
       "4.0"
      ]
     },
     "execution_count": 22,
     "metadata": {},
     "output_type": "execute_result"
    }
   ],
   "source": [
    "foo(2.0)"
   ]
  },
  {
   "cell_type": "code",
   "execution_count": 23,
   "metadata": {
    "collapsed": false
   },
   "outputs": [
    {
     "data": {
      "text/plain": [
       "1.0"
      ]
     },
     "execution_count": 23,
     "metadata": {},
     "output_type": "execute_result"
    }
   ],
   "source": [
    "foo(2)"
   ]
  },
  {
   "cell_type": "markdown",
   "metadata": {
    "slideshow": {
     "slide_type": "slide"
    }
   },
   "source": [
    "# But surely this is madness!\n",
    "\n",
    "How do we avoid combinatorial explosion in definitions for functions that take multiple arguments?"
   ]
  },
  {
   "cell_type": "markdown",
   "metadata": {},
   "source": [
    "Julia has two complementary means of dealing with this:\n",
    "- conversion: define a `convert` method telling Julia how to translate one data type to another\n",
    "- promotion: define `promote_rule` and `promote_type`, telling Julia how to treat two *types* on an equal footing"
   ]
  },
  {
   "cell_type": "markdown",
   "metadata": {
    "slideshow": {
     "slide_type": "subslide"
    }
   },
   "source": [
    "Most conversions happen the way you would expect:"
   ]
  },
  {
   "cell_type": "code",
   "execution_count": 24,
   "metadata": {
    "collapsed": false
   },
   "outputs": [
    {
     "data": {
      "text/plain": [
       "1.0"
      ]
     },
     "execution_count": 24,
     "metadata": {},
     "output_type": "execute_result"
    }
   ],
   "source": [
    "convert(Float64, 1)"
   ]
  },
  {
   "cell_type": "code",
   "execution_count": 25,
   "metadata": {
    "collapsed": false
   },
   "outputs": [
    {
     "data": {
      "text/plain": [
       "1.5 + 0.0im"
      ]
     },
     "execution_count": 25,
     "metadata": {},
     "output_type": "execute_result"
    }
   ],
   "source": [
    "convert(Complex, 1.5)"
   ]
  },
  {
   "cell_type": "code",
   "execution_count": 26,
   "metadata": {
    "collapsed": false
   },
   "outputs": [
    {
     "data": {
      "text/plain": [
       "(1.0,2.5)"
      ]
     },
     "execution_count": 26,
     "metadata": {},
     "output_type": "execute_result"
    }
   ],
   "source": [
    "promote(1, 2.5)"
   ]
  },
  {
   "cell_type": "code",
   "execution_count": 27,
   "metadata": {
    "collapsed": false
   },
   "outputs": [
    {
     "data": {
      "text/plain": [
       "(1.0 + 0.0im,0.0 + 0.5im)"
      ]
     },
     "execution_count": 27,
     "metadata": {},
     "output_type": "execute_result"
    }
   ],
   "source": [
    "promote(1, 0.5im)"
   ]
  },
  {
   "cell_type": "markdown",
   "metadata": {
    "slideshow": {
     "slide_type": "subslide"
    }
   },
   "source": [
    "But we can write our own conversion rules:"
   ]
  },
  {
   "cell_type": "code",
   "execution_count": 28,
   "metadata": {
    "collapsed": true
   },
   "outputs": [],
   "source": [
    "type Lefty\n",
    "    x::Number\n",
    "end\n",
    "\n",
    "type Righty\n",
    "    x::Number\n",
    "end"
   ]
  },
  {
   "cell_type": "code",
   "execution_count": 29,
   "metadata": {
    "collapsed": false
   },
   "outputs": [
    {
     "data": {
      "text/plain": [
       "Righty(5)"
      ]
     },
     "execution_count": 29,
     "metadata": {},
     "output_type": "execute_result"
    }
   ],
   "source": [
    "aa = Righty(5)"
   ]
  },
  {
   "cell_type": "code",
   "execution_count": 30,
   "metadata": {
    "collapsed": false
   },
   "outputs": [
    {
     "data": {
      "text/plain": [
       "convert (generic function with 536 methods)"
      ]
     },
     "execution_count": 30,
     "metadata": {},
     "output_type": "execute_result"
    }
   ],
   "source": [
    "import Base.convert\n",
    "convert(::Type{Lefty}, r::Righty) = Lefty(-r.x)"
   ]
  },
  {
   "cell_type": "code",
   "execution_count": 31,
   "metadata": {
    "collapsed": false
   },
   "outputs": [
    {
     "data": {
      "text/plain": [
       "Lefty(-5)"
      ]
     },
     "execution_count": 31,
     "metadata": {},
     "output_type": "execute_result"
    }
   ],
   "source": [
    "convert(Lefty, aa)"
   ]
  },
  {
   "cell_type": "markdown",
   "metadata": {
    "slideshow": {
     "slide_type": "subslide"
    }
   },
   "source": [
    "Promotion works by describing what types of \"least common denonimators\" are possible between types."
   ]
  },
  {
   "cell_type": "markdown",
   "metadata": {},
   "source": [
    "In the case of a Rational type for rational numbers, we might define"
   ]
  },
  {
   "cell_type": "code",
   "execution_count": 32,
   "metadata": {
    "collapsed": false
   },
   "outputs": [
    {
     "data": {
      "text/plain": [
       "promote_rule (generic function with 2 methods)"
      ]
     },
     "execution_count": 32,
     "metadata": {},
     "output_type": "execute_result"
    }
   ],
   "source": [
    "promote_rule{T<:Integer}(::Type{Rational{T}}, ::Type{T}) = Rational{T}\n",
    "promote_rule{T<:Integer,S<:Integer}(::Type{Rational{T}}, ::Type{S}) = Rational{promote_type(T,S)}"
   ]
  },
  {
   "cell_type": "markdown",
   "metadata": {},
   "source": [
    "Rough guide: `promote` is about conversion *strategy*, while `convert` is about *implementation*"
   ]
  },
  {
   "cell_type": "markdown",
   "metadata": {
    "slideshow": {
     "slide_type": "slide"
    }
   },
   "source": [
    "# Metaprogramming\n",
    "\n",
    "Metaprogramming (loosely) refers to the idea of programs writing programs."
   ]
  },
  {
   "cell_type": "markdown",
   "metadata": {},
   "source": [
    "In the case of Julia, this means **macros**. Macros are code rewritings that happen at parse time but prior to compilation."
   ]
  },
  {
   "cell_type": "markdown",
   "metadata": {},
   "source": [
    "It also means that Julia is a language capable of representing and manipulating *its own code*."
   ]
  },
  {
   "cell_type": "markdown",
   "metadata": {
    "slideshow": {
     "slide_type": "subslide"
    }
   },
   "source": [
    "Macros are defined by the `macro` keyword and invoked by the `@` sign. Think of macros as ways to generate code."
   ]
  },
  {
   "cell_type": "code",
   "execution_count": 6,
   "metadata": {
    "collapsed": false
   },
   "outputs": [],
   "source": [
    "# make a macro that reproduces the map command\n",
    "\n",
    "# Map an operation f over an array A\n",
    "macro lame_map(f, A)\n",
    "    # here, $A is the *symbolic value* of A at parse time \n",
    "    # (i.e., the variable name we feed in)\n",
    "    # :( ) \"quotes\" the code so we return an *expression*\n",
    "    # to be inserted into the syntax tree\n",
    "    esc(:([$f(a) for a in $A]))\n",
    "end"
   ]
  },
  {
   "cell_type": "code",
   "execution_count": 7,
   "metadata": {
    "collapsed": false
   },
   "outputs": [
    {
     "data": {
      "text/plain": [
       "6-element Array{Any,1}:\n",
       "   1.0    \n",
       "   2.71828\n",
       "   7.38906\n",
       "  20.0855 \n",
       "  54.5982 \n",
       " 148.413  "
      ]
     },
     "execution_count": 7,
     "metadata": {},
     "output_type": "execute_result"
    }
   ],
   "source": [
    "aa = collect(0:5)\n",
    "\n",
    "@lame_map exp aa  # parens are optional when invoking macros"
   ]
  },
  {
   "cell_type": "code",
   "execution_count": 10,
   "metadata": {
    "collapsed": false
   },
   "outputs": [
    {
     "data": {
      "text/plain": [
       ":([exp(a) for a = aa])"
      ]
     },
     "execution_count": 10,
     "metadata": {},
     "output_type": "execute_result"
    }
   ],
   "source": [
    "macroexpand(:(@lame_map exp aa))"
   ]
  },
  {
   "cell_type": "code",
   "execution_count": 11,
   "metadata": {
    "collapsed": false
   },
   "outputs": [
    {
     "data": {
      "text/plain": [
       "quote  # util.jl, line 153:\n",
       "    local #63#stats = Base.gc_num() # util.jl, line 154:\n",
       "    local #65#elapsedtime = Base.time_ns() # util.jl, line 155:\n",
       "    local #64#val = myfun(50000) # util.jl, line 156:\n",
       "    #65#elapsedtime = Base.-(Base.time_ns(),#65#elapsedtime) # util.jl, line 157:\n",
       "    local #66#diff = Base.GC_Diff(Base.gc_num(),#63#stats) # util.jl, line 158:\n",
       "    Base.time_print(#65#elapsedtime,#66#diff.allocd,#66#diff.total_time,Base.gc_alloc_count(#66#diff)) # util.jl, line 160:\n",
       "    #64#val\n",
       "end"
      ]
     },
     "execution_count": 11,
     "metadata": {},
     "output_type": "execute_result"
    }
   ],
   "source": [
    "macroexpand(:(@time myfun(50000)))"
   ]
  },
  {
   "cell_type": "code",
   "execution_count": null,
   "metadata": {
    "collapsed": true
   },
   "outputs": [],
   "source": [
    "@simd @inbounds f[i] = k[z] + 1"
   ]
  },
  {
   "cell_type": "code",
   "execution_count": 12,
   "metadata": {
    "collapsed": false
   },
   "outputs": [
    {
     "data": {
      "text/plain": [
       "myfun (generic function with 1 method)"
      ]
     },
     "execution_count": 12,
     "metadata": {},
     "output_type": "execute_result"
    }
   ],
   "source": [
    "myfun(x) = x + 1 - 2."
   ]
  },
  {
   "cell_type": "code",
   "execution_count": 15,
   "metadata": {
    "collapsed": false
   },
   "outputs": [
    {
     "data": {
      "text/plain": [
       "quote  # profile.jl, line 11:\n",
       "    try  # profile.jl, line 12:\n",
       "        #67#status = Base.Profile.start_timer() # profile.jl, line 13:\n",
       "        if (#67#status Base.Profile.< 0) # profile.jl, line 14:\n",
       "            Base.Profile.error(Base.Profile.error_codes[#67#status])\n",
       "        end # profile.jl, line 16:\n",
       "        myfun(2)\n",
       "    finally  # profile.jl, line 18:\n",
       "        Base.Profile.stop_timer()\n",
       "    end\n",
       "end"
      ]
     },
     "execution_count": 15,
     "metadata": {},
     "output_type": "execute_result"
    }
   ],
   "source": [
    "macroexpand(:(@profile myfun(2)))"
   ]
  },
  {
   "cell_type": "markdown",
   "metadata": {
    "slideshow": {
     "slide_type": "subslide"
    }
   },
   "source": [
    "Another practical byproduct of this is that Julia has a `Symbol` variable type."
   ]
  },
  {
   "cell_type": "code",
   "execution_count": 35,
   "metadata": {
    "collapsed": false
   },
   "outputs": [
    {
     "data": {
      "text/plain": [
       "Int64"
      ]
     },
     "execution_count": 35,
     "metadata": {},
     "output_type": "execute_result"
    }
   ],
   "source": [
    "x = 5\n",
    "\n",
    "typeof(x)"
   ]
  },
  {
   "cell_type": "code",
   "execution_count": 36,
   "metadata": {
    "collapsed": false
   },
   "outputs": [
    {
     "data": {
      "text/plain": [
       "Symbol"
      ]
     },
     "execution_count": 36,
     "metadata": {},
     "output_type": "execute_result"
    }
   ],
   "source": [
    "typeof(:x)"
   ]
  },
  {
   "cell_type": "code",
   "execution_count": 37,
   "metadata": {
    "collapsed": false
   },
   "outputs": [
    {
     "data": {
      "text/plain": [
       ":x"
      ]
     },
     "execution_count": 37,
     "metadata": {},
     "output_type": "execute_result"
    }
   ],
   "source": [
    "a = :x"
   ]
  },
  {
   "cell_type": "code",
   "execution_count": 38,
   "metadata": {
    "collapsed": false
   },
   "outputs": [
    {
     "name": "stdout",
     "output_type": "stream",
     "text": [
      "6\n"
     ]
    }
   ],
   "source": [
    "eval(:($a = 6))\n",
    "\n",
    "println(x)"
   ]
  },
  {
   "cell_type": "markdown",
   "metadata": {
    "slideshow": {
     "slide_type": "subslide"
    }
   },
   "source": [
    "This is a really important feature for being able to construct programs that write code."
   ]
  },
  {
   "cell_type": "markdown",
   "metadata": {},
   "source": [
    "It's how we tell the difference between the literal string `\"x\"` and the program variable `x`."
   ]
  },
  {
   "cell_type": "markdown",
   "metadata": {},
   "source": [
    "This allows us to write code in which the code itself is variable!"
   ]
  },
  {
   "cell_type": "markdown",
   "metadata": {
    "slideshow": {
     "slide_type": "slide"
    }
   },
   "source": [
    "# Julia idioms\n",
    "\n",
    "> With Matlab and Python, every programming problem is an exercise in mining \n",
    "the standard library for (you hope) just the right functions for your \n",
    "problem, because any code that you write yourself will be slow. Julia \n",
    "doesn't have that problem, and often the most straightforward code is also \n",
    "the best code.\n",
    "\n",
    "> Steven G. Johnson on julia-users, October 6, 2015"
   ]
  },
  {
   "cell_type": "markdown",
   "metadata": {
    "slideshow": {
     "slide_type": "subslide"
    }
   },
   "source": [
    "# Rule of thumb 1: Write loops\n",
    "\n",
    "The Golden Rule of Matlab/Python/R programming is not to write loops, because loops are slow. In Julia, we write loops because they are easier for the compiler (and often us) to understand."
   ]
  },
  {
   "cell_type": "markdown",
   "metadata": {},
   "source": [
    "# Rule of thumb 2: Care about types\n",
    "\n",
    "Type inference is how Julia generates efficient code. If your function takes a variable that Julia can't infer a type for, it will be typed as `Any`. At that point, you might as well be writing Python."
   ]
  },
  {
   "cell_type": "markdown",
   "metadata": {},
   "source": [
    "Learn to use macros like `@code_warntype` to find out how Julia is parsing your code!"
   ]
  },
  {
   "cell_type": "markdown",
   "metadata": {
    "slideshow": {
     "slide_type": "subslide"
    }
   },
   "source": [
    "# Rule of thumb 3: If you care about performance, read up\n",
    "\n",
    "[Performance tips](http://julia.readthedocs.org/en/latest/manual/performance-tips/) will save your sanity. Learn a little bit about memory layout of arrays (C vs FORTRAN style) and when arrays are shared vs copied."
   ]
  },
  {
   "cell_type": "markdown",
   "metadata": {},
   "source": [
    "# Rule of thumb 4: Prepare for change\n",
    "\n",
    "Julia is a work in progress. The language is still undergoing big, breaking changes. [Arraymageddon](https://github.com/JuliaLang/julia/issues/13157) is coming. Caveat emptor."
   ]
  },
  {
   "cell_type": "markdown",
   "metadata": {
    "slideshow": {
     "slide_type": "subslide"
    }
   },
   "source": [
    "There are lots of examples of Julia code out there. Two from my own work:\n",
    "\n",
    "- I implemented a [Kalman filter](https://github.com/jmxpearson/laf/blob/master/julia/SStools.jl) on the way to implementing [locally adaptive factor processes](https://github.com/jmxpearson/laf).\n",
    "\n",
    "- I implemented the pruned exact linear time ([PELT](https://github.com/jmxpearson/cpgas/blob/master/pelt_integration_test.ipynb)) algorithm from [Killick et al.](http://www.tandfonline.com/doi/abs/10.1080/01621459.2012.737745)."
   ]
  },
  {
   "cell_type": "markdown",
   "metadata": {
    "slideshow": {
     "slide_type": "slide"
    }
   },
   "source": [
    "# From here\n",
    "\n",
    "- v0.5 should have an official release soon. Some *big* (breaking) changes from 0.4 to 0.5, so read up before switching.\n",
    "\n",
    "- There are books in progress about Julia, but the best current source is still the [docs](http://julia.readthedocs.org/en/release-0.4/).\n",
    "\n",
    "- [Julia Statistics](https://github.com/JuliaStats) and [JuliaOpt](https://github.com/JuliaOpt) are strong, active package communities.\n",
    "\n",
    "- [Mocha.jl](https://github.com/pluskid/Mocha.jl) a Deep Learning framework, recently make Hacker News.\n",
    "\n",
    "- [STAN](https://github.com/goedman/Stan.jl) bindings are already available."
   ]
  },
  {
   "cell_type": "code",
   "execution_count": null,
   "metadata": {
    "collapsed": true
   },
   "outputs": [],
   "source": []
  }
 ],
 "metadata": {
  "celltoolbar": "Slideshow",
  "kernelspec": {
   "display_name": "Julia 0.4.3",
   "language": "julia",
   "name": "julia-0.4"
  },
  "language_info": {
   "file_extension": ".jl",
   "mimetype": "application/julia",
   "name": "julia",
   "version": "0.4.3"
  }
 },
 "nbformat": 4,
 "nbformat_minor": 0
}

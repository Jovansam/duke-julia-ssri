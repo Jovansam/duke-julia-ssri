{
 "cells": [
  {
   "cell_type": "markdown",
   "metadata": {},
   "source": [
    "# Plotting in Julia with Winston (syntax mirrors Matlab)"
   ]
  },
  {
   "cell_type": "markdown",
   "metadata": {},
   "source": [
    "In addition to `PyPlot`, Julia offers the `Winston` package, which mirrors Matlab's plotting syntax. Here we will offer a few examples of how to do simple plots with this package."
   ]
  },
  {
   "cell_type": "code",
   "execution_count": 6,
   "metadata": {
    "collapsed": true
   },
   "outputs": [],
   "source": [
    "using Winston"
   ]
  },
  {
   "cell_type": "markdown",
   "metadata": {},
   "source": [
    "## Plotting a function"
   ]
  },
  {
   "cell_type": "markdown",
   "metadata": {},
   "source": [
    "The `Curve()` function in `Winston` allows for plotting of a function:"
   ]
  },
  {
   "cell_type": "code",
   "execution_count": 5,
   "metadata": {
    "collapsed": false
   },
   "outputs": [
    {
     "ename": "LoadError",
     "evalue": "LoadError: UndefVarError: Curve not defined\nwhile loading In[5], in expression starting on line 3",
     "output_type": "error",
     "traceback": [
      "LoadError: UndefVarError: Curve not defined\nwhile loading In[5], in expression starting on line 3",
      ""
     ]
    }
   ],
   "source": [
    "x = 0:0.05:5;\n",
    "y = log(x);\n",
    "c = Curve(x, y, color=\"blue\");\n",
    "p = FramedPlot();\n",
    "add(p, c)"
   ]
  },
  {
   "cell_type": "code",
   "execution_count": 7,
   "metadata": {
    "collapsed": false
   },
   "outputs": [
    {
     "name": "stdout",
     "output_type": "stream",
     "text": [
      "search:\n"
     ]
    },
    {
     "ename": "LoadError",
     "evalue": "LoadError: \"Curve\" is not defined in module Main\nwhile loading In[7], in expression starting on line 119",
     "output_type": "error",
     "traceback": [
      "LoadError: \"Curve\" is not defined in module Main\nwhile loading In[7], in expression starting on line 119",
      "",
      " in error at error.jl:21"
     ]
    },
    {
     "name": "stdout",
     "output_type": "stream",
     "text": [
      "\n",
      "Couldn't find Curve\n",
      "Perhaps you meant Core, Cuint, etree, merge, parse, Tuple, tuple or quote\n"
     ]
    }
   ],
   "source": [
    "?Curve"
   ]
  },
  {
   "cell_type": "code",
   "execution_count": 8,
   "metadata": {
    "collapsed": false
   },
   "outputs": [
    {
     "name": "stdout",
     "output_type": "stream",
     "text": [
      "                          Base  25220 KB     Module : Base\n",
      "                    ColorTypes    226 KB     Module : ColorTypes\n",
      "                        Colors    556 KB     Module : Colors\n",
      "                        Compat     60 KB     Module : Compat\n",
      "                          Core   3334 KB     Module : Core\n",
      "             FixedPointNumbers     33 KB     Module : FixedPointNumbers\n",
      "                      Graphics     46 KB     Module : Graphics\n",
      "                        IJulia    244 KB     Module : IJulia\n",
      "                IPythonDisplay     27 KB     Module : IPythonDisplay\n",
      "                          JSON    195 KB     Module : JSON\n",
      "                          Main  29727 KB     Module : Main\n",
      "                        Nettle     41 KB     Module : Nettle\n",
      "                      Reexport   3658 bytes  Module : Reexport\n",
      "                       Winston    945 bytes  Module : Winston\n",
      "                           ZMQ     80 KB     Module : ZMQ\n",
      "                             x     32 bytes  101-element FloatRange{Float64} : …\n",
      "                             y    808 bytes  101-element Array{Float64,1} : [-I…\n"
     ]
    }
   ],
   "source": [
    "whos()"
   ]
  },
  {
   "cell_type": "code",
   "execution_count": null,
   "metadata": {
    "collapsed": true
   },
   "outputs": [],
   "source": []
  }
 ],
 "metadata": {
  "kernelspec": {
   "display_name": "Julia 0.4.1",
   "language": "julia",
   "name": "julia-0.4"
  },
  "language_info": {
   "file_extension": ".jl",
   "mimetype": "application/julia",
   "name": "julia",
   "version": "0.4.1"
  }
 },
 "nbformat": 4,
 "nbformat_minor": 0
}

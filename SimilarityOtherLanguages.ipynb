{
 "cells": [
  {
   "cell_type": "markdown",
   "metadata": {},
   "source": [
    "# Best practices in Julia & similarity to other languages"
   ]
  },
  {
   "cell_type": "markdown",
   "metadata": {},
   "source": [
    "## Best practices"
   ]
  },
  {
   "cell_type": "markdown",
   "metadata": {},
   "source": [
    "1. Avoid global variables. If you need to use a global, prepend with `const`\n",
    "2. Use `@time` to benchmark computational time and memory allocation\n",
    "3. Put everything in functions to avoid `Julia`'s default global scoping\n",
    "4. Be as specific as possible about what `type` an object is\n",
    "5. Avoid changing the `type` of a variable, and write `type`-stable functions\n",
    "6. Pre-allocate outputs as much as possible\n",
    "\n",
    "A complete list of best practices is available [here](http://docs.julialang.org/en/release-0.4/manual/performance-tips/)."
   ]
  },
  {
   "cell_type": "markdown",
   "metadata": {},
   "source": [
    "## Similarity to other languages\n",
    "\n",
    "See complete list [here](http://docs.julialang.org/en/release-0.4/manual/noteworthy-differences/)."
   ]
  },
  {
   "cell_type": "markdown",
   "metadata": {},
   "source": [
    "### Matlab"
   ]
  },
  {
   "cell_type": "markdown",
   "metadata": {},
   "source": [
    "Julia and Matlab share the following broad similarities:\n",
    "- Semicolon denotes the end of a line and suppresses output\n",
    "- `=` is the assignment operator\n",
    "- array indices start at 1\n",
    "- Function syntax is similar (though Julia requires explicit `return` and `end` statements)\n",
    "- Looping syntax is identical\n",
    "\n",
    "The following are major differences between Julia and Matlab:\n",
    "- Use `[]` to index arrays instead of `()`; e.g. `A[:,1]`\n",
    "- After assigning `A=B`, modifying `B` will also modify `A` in Julia\n",
    "- Julia will not automatically grow arrays\n",
    "- Julia will not automatically convert types (e.g. `12` is an `Int` in Julia; `12.0` is a `Float64`; `12` can be either in Matlab)\n",
    "- `nargout` does not exist in Julia\n",
    "- `A==B` will throw an error in Julia if `A` and `B` are not scalars. Use `A.==B` instead (same for other relational operators like `<`, `>`, etc.)\n",
    "- No need to use `...` to continue code across lines; Julia continues lines automatically\n",
    "- Use `#` to comment instead of `%`"
   ]
  },
  {
   "cell_type": "markdown",
   "metadata": {},
   "source": [
    "### R"
   ]
  },
  {
   "cell_type": "markdown",
   "metadata": {},
   "source": [
    "Julia and R share the following broad similarities:\n",
    "- Julia supports returning outputs of a function on the same line; e.g. `z = sum(x)[1]`\n",
    "- Use `[]` to index arrays\n",
    "- Use `#` to comment\n",
    "- `return` to specify function outputs\n",
    "- Code automatically continues across lines\n",
    "\n",
    "Julia and R have the following differences:\n",
    "- Vector operations require vectors of the same length\n",
    "- `=` assigns, not `->`, `<<-`, or `<-`\n",
    "- Use `[1,2,3]` to construct arrays, not `c(1,2,3)`\n",
    "- Notation for matrix multiplication and transpose follow Matlab, not R\n",
    "- Looping syntax follows Matlab, not R"
   ]
  },
  {
   "cell_type": "markdown",
   "metadata": {},
   "source": [
    "### Python"
   ]
  },
  {
   "cell_type": "markdown",
   "metadata": {},
   "source": [
    "Julia and Python share the following similarities:\n",
    "- Use `#` to comment\n",
    "- Dynamic variables\n",
    "- Tuples\n",
    "- Nested functions\n",
    "\n",
    "Julia and Python have the following differences:\n",
    "- Arrays are column major instead of row major\n",
    "- Indentation level for loops doesn't matter in Julia\n",
    "- No support for 0 or negative indexes"
   ]
  },
  {
   "cell_type": "code",
   "execution_count": null,
   "metadata": {
    "collapsed": true
   },
   "outputs": [],
   "source": []
  }
 ],
 "metadata": {
  "kernelspec": {
   "display_name": "Julia 0.4.1",
   "language": "julia",
   "name": "julia-0.4"
  },
  "language_info": {
   "file_extension": ".jl",
   "mimetype": "application/julia",
   "name": "julia",
   "version": "0.4.1"
  }
 },
 "nbformat": 4,
 "nbformat_minor": 0
}
